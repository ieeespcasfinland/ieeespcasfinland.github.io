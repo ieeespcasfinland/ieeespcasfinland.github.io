{
 "cells": [
  {
   "cell_type": "markdown",
   "id": "526e9776",
   "metadata": {},
   "source": [
    "# IEEE SPS Seasonal School on Networked Federated Learning \n",
    "# https://ieeespcasfinland.github.io/\n",
    "# Exericse 3"
   ]
  },
  {
   "cell_type": "markdown",
   "id": "00d59dbc",
   "metadata": {},
   "source": [
    "# Learning Goals \n",
    "\n",
    "After completing this exercise, you should \n",
    "\n",
    "* be able to store local datasets and local model parameters as node attributes of a `networkx.Graph` object \n",
    "* know how to learn model parameters using linear regression applied separately to each local dataset. \n",
    "* know about total variation (TV) regularization as a means to enforce similar model parameters for well-connected datasets (forming a \"cluster\").\n",
    "* be able to derive the gradient descent steps for TV regularized linear regression.  "
   ]
  },
  {
   "cell_type": "markdown",
   "id": "cd4cb04d",
   "metadata": {},
   "source": [
    "# Demo 3.1 - A Two-Cluster Toy Dataset\n",
    "\n",
    "The code snippet below generates a `networkx.Graph` object `G` that represents a toy example for a networked dataset. Each node $i=0,\\ldots,5$ of the `G` represents a local dataset. The nodes $i=0,1,2$ are connected by edges with large weights $A_{i,j}$. Similarily, also the nodes $i=3,4,5$ are connected by edges with large weights $A_{i,j}$. These two subsets (clusters) of nodes are connected by a single edge $\\{2,3\\}$ with small weight $A_{2,3}$. "
   ]
  },
  {
   "cell_type": "code",
   "execution_count": 4,
   "id": "f4c04a6d",
   "metadata": {},
   "outputs": [
    {
     "ename": "AttributeError",
     "evalue": "module 'matplotlib.cbook' has no attribute 'iterable'",
     "output_type": "error",
     "traceback": [
      "\u001b[0;31m---------------------------------------------------------------------------\u001b[0m",
      "\u001b[0;31mAttributeError\u001b[0m                            Traceback (most recent call last)",
      "\u001b[0;32m<ipython-input-4-be1ff82d241a>\u001b[0m in \u001b[0;36m<module>\u001b[0;34m\u001b[0m\n\u001b[1;32m     47\u001b[0m \u001b[0;34m\u001b[0m\u001b[0m\n\u001b[1;32m     48\u001b[0m \u001b[0;31m# draw the edges with large weights using solid lines\u001b[0m\u001b[0;34m\u001b[0m\u001b[0;34m\u001b[0m\u001b[0;34m\u001b[0m\u001b[0m\n\u001b[0;32m---> 49\u001b[0;31m \u001b[0mnx\u001b[0m\u001b[0;34m.\u001b[0m\u001b[0mdraw_networkx_edges\u001b[0m\u001b[0;34m(\u001b[0m\u001b[0mG\u001b[0m\u001b[0;34m,\u001b[0m \u001b[0mpos\u001b[0m\u001b[0;34m,\u001b[0m \u001b[0medgelist\u001b[0m\u001b[0;34m=\u001b[0m\u001b[0melarge\u001b[0m\u001b[0;34m,\u001b[0m \u001b[0mwidth\u001b[0m\u001b[0;34m=\u001b[0m\u001b[0;36m6\u001b[0m\u001b[0;34m)\u001b[0m\u001b[0;34m\u001b[0m\u001b[0;34m\u001b[0m\u001b[0m\n\u001b[0m\u001b[1;32m     50\u001b[0m \u001b[0;34m\u001b[0m\u001b[0m\n\u001b[1;32m     51\u001b[0m \u001b[0;31m# draw the edges with small weights using dashed lines\u001b[0m\u001b[0;34m\u001b[0m\u001b[0;34m\u001b[0m\u001b[0;34m\u001b[0m\u001b[0m\n",
      "\u001b[0;32m~/.local/lib/python3.8/site-packages/networkx/drawing/nx_pylab.py\u001b[0m in \u001b[0;36mdraw_networkx_edges\u001b[0;34m(G, pos, edgelist, width, edge_color, style, alpha, arrowstyle, arrowsize, edge_cmap, edge_vmin, edge_vmax, ax, arrows, label, node_size, nodelist, node_shape, connectionstyle, **kwds)\u001b[0m\n\u001b[1;32m    577\u001b[0m     \u001b[0medge_pos\u001b[0m \u001b[0;34m=\u001b[0m \u001b[0mnp\u001b[0m\u001b[0;34m.\u001b[0m\u001b[0masarray\u001b[0m\u001b[0;34m(\u001b[0m\u001b[0;34m[\u001b[0m\u001b[0;34m(\u001b[0m\u001b[0mpos\u001b[0m\u001b[0;34m[\u001b[0m\u001b[0me\u001b[0m\u001b[0;34m[\u001b[0m\u001b[0;36m0\u001b[0m\u001b[0;34m]\u001b[0m\u001b[0;34m]\u001b[0m\u001b[0;34m,\u001b[0m \u001b[0mpos\u001b[0m\u001b[0;34m[\u001b[0m\u001b[0me\u001b[0m\u001b[0;34m[\u001b[0m\u001b[0;36m1\u001b[0m\u001b[0;34m]\u001b[0m\u001b[0;34m]\u001b[0m\u001b[0;34m)\u001b[0m \u001b[0;32mfor\u001b[0m \u001b[0me\u001b[0m \u001b[0;32min\u001b[0m \u001b[0medgelist\u001b[0m\u001b[0;34m]\u001b[0m\u001b[0;34m)\u001b[0m\u001b[0;34m\u001b[0m\u001b[0;34m\u001b[0m\u001b[0m\n\u001b[1;32m    578\u001b[0m \u001b[0;34m\u001b[0m\u001b[0m\n\u001b[0;32m--> 579\u001b[0;31m     \u001b[0;32mif\u001b[0m \u001b[0;32mnot\u001b[0m \u001b[0mcb\u001b[0m\u001b[0;34m.\u001b[0m\u001b[0miterable\u001b[0m\u001b[0;34m(\u001b[0m\u001b[0mwidth\u001b[0m\u001b[0;34m)\u001b[0m\u001b[0;34m:\u001b[0m\u001b[0;34m\u001b[0m\u001b[0;34m\u001b[0m\u001b[0m\n\u001b[0m\u001b[1;32m    580\u001b[0m         \u001b[0mlw\u001b[0m \u001b[0;34m=\u001b[0m \u001b[0;34m(\u001b[0m\u001b[0mwidth\u001b[0m\u001b[0;34m,\u001b[0m\u001b[0;34m)\u001b[0m\u001b[0;34m\u001b[0m\u001b[0;34m\u001b[0m\u001b[0m\n\u001b[1;32m    581\u001b[0m     \u001b[0;32melse\u001b[0m\u001b[0;34m:\u001b[0m\u001b[0;34m\u001b[0m\u001b[0;34m\u001b[0m\u001b[0m\n",
      "\u001b[0;31mAttributeError\u001b[0m: module 'matplotlib.cbook' has no attribute 'iterable'"
     ]
    },
    {
     "data": {
      "image/png": "[encoded data removed]",
      "text/plain": [
       "<Figure size 432x288 with 1 Axes>"
      ]
     },
     "metadata": {},
     "output_type": "display_data"
    }
   ],
   "source": [
    "import matplotlib.pyplot as plt\n",
    "import networkx as nx\n",
    "\n",
    "G = nx.Graph()\n",
    "\n",
    "G.add_nodes_from(range(6))  # add six nodes i=0,..,5 to the graph G. \n",
    "\n",
    "# assign nodes i=0,1,2 to block 0 \n",
    "\n",
    "G.nodes[0][\"block\"] = 0 \n",
    "G.nodes[1][\"block\"] = 0 \n",
    "G.nodes[2][\"block\"] = 0 \n",
    "\n",
    "# assign nodes i=3,4,5 to block 1\n",
    "\n",
    "G.nodes[3][\"block\"] = 1\n",
    "G.nodes[4][\"block\"] = 1 \n",
    "G.nodes[5][\"block\"] = 1 \n",
    "\n",
    "\n",
    "# add egdes (i,j) along with a weight A_ij \n",
    "\n",
    "#intra-cluster edges for block 0 \n",
    "G.add_edge(0, 1, A=1)\n",
    "G.add_edge(0, 2, A=1)\n",
    "G.add_edge(1, 2, A=1)\n",
    "\n",
    "#inter-cluster edge between block 0 and 1 \n",
    "G.add_edge(2, 3, A=0.2)\n",
    "\n",
    "# intra-cluster edges for block 1 \n",
    "G.add_edge(3, 4, A=1)\n",
    "G.add_edge(4, 5, A=1)\n",
    "G.add_edge(3, 5, A=1)\n",
    "\n",
    "\n",
    "# determine the edges whose weight is smaller than 1/2\n",
    "elarge = [(u, v) for (u, v, d) in G.edges(data=True) if d[\"A\"] > 0.5]\n",
    "# determine the edges whose weight is larger or equal than 1/2 \n",
    "esmall = [(u, v) for (u, v, d) in G.edges(data=True) if d[\"A\"] <= 0.5]\n",
    "\n",
    "# determine convenient coordinates for illustrating nodes in a plane\n",
    "pos = nx.spring_layout(G, seed=7)  \n",
    "\n",
    "# draw the nodes of the network \n",
    "nx.draw_networkx_nodes(G, pos, node_size=700)\n",
    "\n",
    "# draw the edges with large weights using solid lines  \n",
    "nx.draw_networkx_edges(G, pos, edgelist=elarge, width=6)\n",
    "\n",
    "# draw the edges with small weights using dashed lines \n",
    "nx.draw_networkx_edges(\n",
    "    G, pos, edgelist=esmall, width=6, alpha=0.5, edge_color=\"b\", style=\"dashed\"\n",
    ")\n",
    "\n",
    "\n",
    "# draw the node names \n",
    "nx.draw_networkx_labels(G, pos, nx.get_node_attributes(G, 'block'), font_size=20, font_family=\"sans-serif\")\n",
    "ax = plt.gca()\n",
    "ax.margins(0.08)\n",
    "plt.axis(\"off\")\n",
    "\n",
    "# make sure plot is displayed in the notebook \n",
    "plt.tight_layout()\n",
    "plt.show()"
   ]
  },
  {
   "cell_type": "markdown",
   "id": "5b611dd9",
   "metadata": {},
   "source": [
    "## Adding Data and Model Parameters to Nodes of Toy Network\n",
    "\n",
    "We have created a `networkx` object `G` with nodes $i=0,1,\\ldots,5$ (stored in `G.nodes`) and some undirected edges $\\{i,j\\}$ (stored in `G.edges`) with weight $A_{i,j}$ (stored in edge attribute \"A\"). The code snippet below adds a local dataset and a weight vector to each node of `G`. \n",
    "\n",
    "The local dataset of node $i$ consists of several datapoints.  The $r$-th data point assigned to node `i` is characterized by a numeric feature vector $\\mathbf{x}^{(i,r)} \\in \\mathbb{R}^{n}$ and a numeric label value $y^{(i,r)}$. We collect the feature vectors and label values into the feature matrix \n",
    "\n",
    "$$\\mathbf{X}^{(i)} = \\big(\\mathbf{x}^{(i,1)},\\ldots,\\mathbf{x}^{(i,m_{i})} \\big)^{T} \\mbox{ , and } \\mathbf{y}^{(i)} = \\big(y^{(i,1)},\\ldots,y^{(i,m_{i})} \\big)^{T}.$$\n",
    "\n",
    "For each node of `G`, we add the attributes `X` and `y` which store the feature matrix $\\mathbf{X}^{(i)}$ and label vector $\\mathbf{y}$, respectively. Beside the local dataset (given by $\\mathbf{X}^{(i)}$ and $\\mathbf{y}$), we also assign a weight vector $\\mathbf{w}^{(i)}$ to each node $i$. This weight vector will be stored in the node attribute `w` and defines a local (\"personalized\") hypothesis $h^{(i)}(\\mathbf{x}) = \\big( \\mathbf{w}^{(i)} \\big)^{T} \\mathbf{x}$. We can use the hypothesis $h^{(i)}$ to predict the label of a data point based on its features: \n",
    "\n",
    "$$y \\approx h^{(i)}(\\mathbf{x}) = \\big( \\mathbf{w}^{(i)} \\big)^{T} \\mathbf{x}.$$ "
   ]
  },
  {
   "cell_type": "code",
   "execution_count": null,
   "id": "8254fb39",
   "metadata": {},
   "outputs": [],
   "source": [
    "import numpy as np \n",
    "\n",
    "samplesize=100 # use same size m_{i} = samplesize for each local dataset\n",
    "\n",
    "\n",
    "# generate one true weight vector for each block \n",
    "true_weights = np.random.randn(2,2)\n",
    "\n",
    "# define the noise std. deviation \n",
    "noisestrength = 0.1\n",
    "    \n",
    "for iter_node in G.nodes: \n",
    "# create a feature matrix whose rows contain the feature vectors of individual data points \n",
    "# each data point is characterized by a feature vector (x1,x2) of lenght 2. The first feature \n",
    "# x1 is an arbitrary number while the second feature x2 is fixed to be always equal to 1 (a \"dummy feature\")\n",
    "   X = np.hstack((np.random.randn(samplesize,1),np.ones((samplesize,1))))\n",
    "# choose the true weight vector for the block to which the node belongs to\n",
    "   true_w = true_weights[:,G.nodes[iter_node][\"block\"]]\n",
    "# create synthetic labels of data points and store them as the entries of the numpy array y \n",
    "   y = X.dot(true_w) + noisestrength*np.random.randn(samplesize,)\n",
    "    \n",
    "   # the node attribute \"X\" stores the feature vectors of the data points associated with a node \n",
    "   G.nodes[iter_node][\"X\"] = X \n",
    "\n",
    "   # the node attribute \"y\" stores the labels for the data points of associated with a node \n",
    "   G.nodes[iter_node][\"y\"] = y \n",
    "   \n",
    "   # the node attribute \"w\" stores the weight vector of a linear hypothesis \n",
    "   # note that each node might have a potentially different weight vector (personalized model!)  \n",
    "\n",
    "   G.nodes[iter_node][\"w\"] = np.zeros(X.shape[1]) # initialize weights at node \"iter_node\" to zeros"
   ]
  },
  {
   "cell_type": "markdown",
   "id": "3beae19b",
   "metadata": {},
   "source": [
    "# Demo 3.2 - Gradient Descent for Total Variation Minimization\n",
    "\n",
    "Let us now develop a simple but useful distributed algorithm for learning the local weights $\\mathbf{w}^{(i)}$ assigned to the nodes of `G`. Like in Exercise 1, we will use the squared error loss measure to evaluate the quality of a particular choice for $\\mathbf{w}^{(i)}$. We then obtain the average squared error at node $i$ as \n",
    "$ (1/m_{i}) \\big\\| \\mathbf{y}^{(i)} - \\mathbf{X}^{(i)} \\mathbf{w}^{(i)} \\big\\|^{2}_{2} $. \n",
    "\n",
    "In principle we could learn the weight vectors $\\mathbf{w}^{(i)}$ separately by minimizing the respective average squared error at each node, \n",
    "\n",
    "$$ \\min_{\\mathbf{w}^{(i)} \\in \\mathbb{R}^{n}} (1/m_{i}) \\big\\| \\mathbf{y}^{(i)} - \\mathbf{X}^{(i)} \\mathbf{w}^{(i)} \\big\\|^{2}_{2}.$$ \n",
    "\n",
    "However, we should also exploit the information conveyed by the edges and their weights in the empirical graph `G`. Informally, we require the weight vectors $\\mathbf{w}^{(i)}$ and $\\mathbf{w}^{(j)}$ at two nodes that are connected by an edge with a large weight to be close to each other. This requirement is made precise by the following total variation minimization problem: \n",
    "\n",
    "\\begin{equation}\n",
    "\\min_{\\mathbf{w}^{(0)},\\ldots,} \\sum_{i} (1/m_{i}) \\big\\| \\mathbf{y}^{(i)} - \\mathbf{X}^{(i)} \\mathbf{w}^{(i)} \\big\\|^{2}_{2}\n",
    "+ \\lambda_{\\rm TV} \\sum_{\\{i,j\\}} A_{i,j} \\| \\mathbf{w}^{(i)} - \\mathbf{w}^{(j)} \\|^{2}_{2}. \\quad \\quad {\\rm (TVMin)}\n",
    "\\end{equation} \n",
    "\n",
    "Note that (TVMin) is a special case of the optimization problem in [2, Eq. 1]. \n",
    "\n",
    "Note that (TVMin) amounts to minimizing a smooth and convex objective function \n",
    "\n",
    "$$ f(\\mathbf{w}) = \\sum_{i} (1/m_{i}) \\| \\mathbf{y}^{(i)} - \\mathbf{X}^{(i)} \\mathbf{w}^{(i)} \\|^{2}_{2}\n",
    "+ \\lambda_{\\rm TV} \\sum_{\\{i,j\\}} A_{i,j} \\| \\mathbf{w}^{(i)} - \\mathbf{w}^{(j)} \\|^{2}_{2}.$$ \n",
    "\n",
    "The optimization variable $\\mathbf{w} = \\big( \\big(\\mathbf{w}^{(0)}\\big)^{T},\\ldots, \\big(\\mathbf{w}^{(m-1)}\\big)^{T} \\big)^{T}$ is the vector obtained by stacking the local weight vectors. \n",
    "\n",
    "As discussed in Exercise 1, we can iteratively minimize a smooth and convex function by GD steps: \n",
    "\n",
    "\\begin{align} \n",
    "\\mathbf{w}^{(k+1)} & = \\mathbf{w}^{(k)} - \\alpha \\nabla f\\big(\\mathbf{w}^{(k)}\\big)  \\quad \\quad \\mbox{ (Generic GD)}. \n",
    "\\end{align}\n",
    "\n",
    "The gradient $f\\big(\\mathbf{w}\\big)$ can be shown to be given as (see, e.g., [1, Appendix A.4]) \n",
    "\n",
    "$$\\nabla f\\big(\\mathbf{w} \\big) = \\big( \\big( \\mathbf{g}^{(1)}\\big)^{T},\\ldots,\\big(\\mathbf{g}^{(m-1)}\\big)^{T} \\big)^{T} \\mbox{ , with } \\mathbf{g}^{(i)} = - (2/m_{i}) \\big( \\mathbf{X}^{(i)} \\big)^{T}\\big( \\mathbf{y}^{(i)} - \\mathbf{X}^{(i)} \\mathbf{w}^{(i)} \\big)+ 2 \\lambda_{\\rm TV} \\!\\sum_{i' \\neq i } A_{i,i'} \\big( \\mathbf{w}^{(i)} - \\mathbf{w}^{(i')} \\big).  \\quad {\\rm (GradientTV)}.$$\n",
    "\n",
    "Inserting (GradientTV) into (Generic GD) results in the following local update rule for the $k$-th iteration of GD at node $i$, \n",
    "\n",
    "\\begin{align} \n",
    "\\mathbf{w}^{(i,k+1)}\\!=\\!\\mathbf{w}^{(i,k)}\\!-\\!\\alpha \\left(\\!-(2/m_{i}) \\big( \\mathbf{X}^{(i)} \\big)^{T}\\big( \\mathbf{y}^{(i)}\\!-\\!\\mathbf{X}^{(i)} \\mathbf{w}^{(i,k)} \\big)\\!+\\!2 \\lambda_{\\rm TV}\\sum_{i' \\neq i }\\!A_{i,i'} \\big( \\mathbf{w}^{(i,k)}\\!-\\!\\mathbf{w}^{(i',k)} \\big) \\right)  \\quad \\quad \\mbox{ (GDTVMin)}.\n",
    "\\end{align}\n",
    "\n",
    "Note that the update (GDTVMin), which is carried out simultaneously at all nodes of `G`, requires only local information for each node. In particular, to compute (GDTVMin) at node `i`, we need the current weight vector $\\mathbf{w}^{(i,k)}$ stored at node $i$ and the current weight vectors stored at the neighbors $\\mathcal{N}(i)$ of node $i$. \n",
    "\n",
    "[1] S. Boyd and L. Vandenberghe, \"Convex Optimization\", Cambridge University Press, 2004 [available here](https://web.stanford.edu/~boyd/cvxbook/bv_cvxbook.pdf)\n",
    "\n",
    "[2] V. Smith, C.-K. Chiang, M. Sanjabi and A. Talwalkar, “Federated Multi-Task Learning”, <i>arXiv e-prints</i>, 2017. https://arxiv.org/pdf/1705.10467.pdf \n",
    "\n"
   ]
  },
  {
   "cell_type": "code",
   "execution_count": 2,
   "id": "463467ab",
   "metadata": {},
   "outputs": [
    {
     "ename": "NameError",
     "evalue": "name 'np' is not defined",
     "output_type": "error",
     "traceback": [
      "\u001b[0;31m---------------------------------------------------------------------------\u001b[0m",
      "\u001b[0;31mNameError\u001b[0m                                 Traceback (most recent call last)",
      "\u001b[0;32m<ipython-input-2-0934d7a28291>\u001b[0m in \u001b[0;36m<module>\u001b[0;34m\u001b[0m\n\u001b[1;32m     10\u001b[0m \u001b[0;31m# initialize the weight vector for each local hypothesis to be all zero\u001b[0m\u001b[0;34m\u001b[0m\u001b[0;34m\u001b[0m\u001b[0;34m\u001b[0m\u001b[0m\n\u001b[1;32m     11\u001b[0m \u001b[0;32mfor\u001b[0m \u001b[0mnode_i\u001b[0m \u001b[0;32min\u001b[0m \u001b[0mG\u001b[0m\u001b[0;34m.\u001b[0m\u001b[0mnodes\u001b[0m\u001b[0;34m(\u001b[0m\u001b[0mdata\u001b[0m\u001b[0;34m=\u001b[0m\u001b[0;32mFalse\u001b[0m\u001b[0;34m)\u001b[0m\u001b[0;34m:\u001b[0m\u001b[0;34m\u001b[0m\u001b[0;34m\u001b[0m\u001b[0m\n\u001b[0;32m---> 12\u001b[0;31m     \u001b[0mG\u001b[0m\u001b[0;34m.\u001b[0m\u001b[0mnodes\u001b[0m\u001b[0;34m[\u001b[0m\u001b[0mnode_i\u001b[0m\u001b[0;34m]\u001b[0m\u001b[0;34m[\u001b[0m\u001b[0;34m\"w\"\u001b[0m\u001b[0;34m]\u001b[0m \u001b[0;34m=\u001b[0m \u001b[0mnp\u001b[0m\u001b[0;34m.\u001b[0m\u001b[0mzeros\u001b[0m\u001b[0;34m(\u001b[0m\u001b[0mX\u001b[0m\u001b[0;34m.\u001b[0m\u001b[0mshape\u001b[0m\u001b[0;34m[\u001b[0m\u001b[0;36m1\u001b[0m\u001b[0;34m]\u001b[0m\u001b[0;34m)\u001b[0m\u001b[0;34m\u001b[0m\u001b[0;34m\u001b[0m\u001b[0m\n\u001b[0m\u001b[1;32m     13\u001b[0m \u001b[0;34m\u001b[0m\u001b[0m\n\u001b[1;32m     14\u001b[0m \u001b[0;31m# repeat the GD step in (GDTVMin) for a total of N_GD times\u001b[0m\u001b[0;34m\u001b[0m\u001b[0;34m\u001b[0m\u001b[0;34m\u001b[0m\u001b[0m\n",
      "\u001b[0;31mNameError\u001b[0m: name 'np' is not defined"
     ]
    }
   ],
   "source": [
    "N_GD  = 1000 # number of GD steps. \n",
    "\n",
    "lambda_TV = 100\n",
    "\n",
    "\n",
    "# set the learning rate alpha for the (GDTVMin) update \n",
    "\n",
    "learning_rate = 1/(2*len(G.nodes)+lambda_TV*6)\n",
    "\n",
    "# initialize the weight vector for each local hypothesis to be all zero\n",
    "for node_i in G.nodes(data=False): \n",
    "    G.nodes[node_i][\"w\"] = np.zeros(X.shape[1]) \n",
    "\n",
    "# repeat the GD step in (GDTVMin) for a total of N_GD times\n",
    "for iter_GD in range(N_GD):\n",
    "    for node_i in G.nodes(data=False): \n",
    "        X = G.nodes[node_i][\"X\"] \n",
    "        y = G.nodes[node_i][\"y\"]\n",
    "        # compute local gradient g for current weight vector at node iter_node\n",
    "        # start with the gradient contribution from the training error \\|y - X*w\\|^{2}_{2} \n",
    "        tmp =  -(2/samplesize) *(X.T.dot(y - X.dot(G.nodes[node_i][\"w\"]))) \n",
    "        # now add the gradient contribution from the total variation term \n",
    "        # loop over all neighbours of current node \"node_i\"\n",
    "        for node_j in G[node_i]: \n",
    "            edge_weight = float(G.edges[(node_i,node_j)][\"A\"])\n",
    "            tmp  =  tmp + 2*lambda_TV*edge_weight*(G.nodes[node_i][\"w\"]- G.nodes[node_j][\"w\"] )\n",
    "        G.nodes[node_i][\"g\"] = tmp\n",
    "    \n",
    "    # the following loop over all nodes, implements a separate GD step (GDTVMin) \n",
    "    # to update the weight vector at each node \n",
    "    for node_i in G.nodes(data=False):\n",
    "        G.nodes[node_i][\"w\"] = G.nodes[node_i][\"w\"] - (learning_rate * G.nodes[node_i][\"g\"] )\n",
    "        \n",
    "print(\"True weights of block 0:\\n\",true_weights[:,0],'\\n')\n",
    "print(\"True weights of block 1:\\n\",true_weights[:,1],'\\n')\n",
    "for node in G.nodes(data=False): \n",
    "    print(\"Learnt weights at node\",node,\" : \",G.nodes[node][\"w\"],\"\\n\")"
   ]
  },
  {
   "cell_type": "markdown",
   "id": "3ae5ec76",
   "metadata": {},
   "source": [
    "The code snippet below creates a separate sub-plot for each node $i$ of the empirical graph `G`. The $i$-th subplot contains the datapoints assigned to a network node $i$ along with the linear predictor learnt for this node. "
   ]
  },
  {
   "cell_type": "code",
   "execution_count": 3,
   "id": "f7ee22c1",
   "metadata": {},
   "outputs": [
    {
     "ename": "NameError",
     "evalue": "name 'np' is not defined",
     "output_type": "error",
     "traceback": [
      "\u001b[0;31m---------------------------------------------------------------------------\u001b[0m",
      "\u001b[0;31mNameError\u001b[0m                                 Traceback (most recent call last)",
      "\u001b[0;32m<ipython-input-3-b13c5f834dc4>\u001b[0m in \u001b[0;36m<module>\u001b[0;34m\u001b[0m\n\u001b[1;32m      4\u001b[0m \u001b[0mplt\u001b[0m\u001b[0;34m.\u001b[0m\u001b[0mstyle\u001b[0m\u001b[0;34m.\u001b[0m\u001b[0muse\u001b[0m\u001b[0;34m(\u001b[0m\u001b[0;34m'fivethirtyeight'\u001b[0m\u001b[0;34m)\u001b[0m\u001b[0;34m\u001b[0m\u001b[0;34m\u001b[0m\u001b[0m\n\u001b[1;32m      5\u001b[0m \u001b[0;34m\u001b[0m\u001b[0m\n\u001b[0;32m----> 6\u001b[0;31m \u001b[0mX_grid\u001b[0m \u001b[0;34m=\u001b[0m \u001b[0mnp\u001b[0m\u001b[0;34m.\u001b[0m\u001b[0mhstack\u001b[0m\u001b[0;34m(\u001b[0m\u001b[0;34m(\u001b[0m\u001b[0mnp\u001b[0m\u001b[0;34m.\u001b[0m\u001b[0mlinspace\u001b[0m\u001b[0;34m(\u001b[0m\u001b[0;34m-\u001b[0m\u001b[0;36m2.0\u001b[0m\u001b[0;34m,\u001b[0m \u001b[0;36m2.0\u001b[0m\u001b[0;34m,\u001b[0m \u001b[0;36m100\u001b[0m\u001b[0;34m)\u001b[0m\u001b[0;34m.\u001b[0m\u001b[0mreshape\u001b[0m\u001b[0;34m(\u001b[0m\u001b[0;34m-\u001b[0m\u001b[0;36m1\u001b[0m\u001b[0;34m,\u001b[0m\u001b[0;36m1\u001b[0m\u001b[0;34m)\u001b[0m\u001b[0;34m,\u001b[0m\u001b[0mnp\u001b[0m\u001b[0;34m.\u001b[0m\u001b[0mones\u001b[0m\u001b[0;34m(\u001b[0m\u001b[0;34m(\u001b[0m\u001b[0;36m100\u001b[0m\u001b[0;34m,\u001b[0m\u001b[0;36m1\u001b[0m\u001b[0;34m)\u001b[0m\u001b[0;34m)\u001b[0m\u001b[0;34m)\u001b[0m\u001b[0;34m)\u001b[0m\u001b[0;34m\u001b[0m\u001b[0;34m\u001b[0m\u001b[0m\n\u001b[0m\u001b[1;32m      7\u001b[0m \u001b[0;34m\u001b[0m\u001b[0m\n\u001b[1;32m      8\u001b[0m \u001b[0;32mfor\u001b[0m \u001b[0miter_node\u001b[0m \u001b[0;32min\u001b[0m \u001b[0mG\u001b[0m\u001b[0;34m.\u001b[0m\u001b[0mnodes\u001b[0m\u001b[0;34m:\u001b[0m\u001b[0;34m\u001b[0m\u001b[0;34m\u001b[0m\u001b[0m\n",
      "\u001b[0;31mNameError\u001b[0m: name 'np' is not defined"
     ]
    },
    {
     "data": {
      "image/png": "[encoded data removed]",
      "text/plain": [
       "<Figure size 720x1224 with 6 Axes>"
      ]
     },
     "metadata": {
      "needs_background": "light"
     },
     "output_type": "display_data"
    }
   ],
   "source": [
    "import matplotlib.pyplot as plt\n",
    "\n",
    "fig, axs = plt.subplots(len(G.nodes),figsize=(10,17))\n",
    "plt.style.use('fivethirtyeight')\n",
    "    \n",
    "X_grid = np.hstack((np.linspace(-2.0, 2.0, 100).reshape(-1,1),np.ones((100,1))))\n",
    "\n",
    "for iter_node in G.nodes: \n",
    "    X = G.nodes[iter_node][\"X\"]\n",
    "    y = G.nodes[iter_node][\"y\"]\n",
    "    learnt_weights = G.nodes[iter_node][\"w\"]\n",
    "    txt=\"local dataset at node \"+str(iter_node)\n",
    "    axs[iter_node].set_ylim([-2, 2])\n",
    "    axs[iter_node].set_xlim([-2, 2])\n",
    "    axs[iter_node].title.set_text(txt)\n",
    "    axs[iter_node].scatter(X[:,0], y, color='black')\n",
    "    \n",
    "    # illustrate the learnt weights by a straight line obtained by evaluating the \n",
    "    # corresponding linear predictor for a regular grid of feature values X_grid\n",
    "    axs[iter_node].plot(X_grid[:,0], X_grid.dot(learnt_weights),marker=\"x\",label = \"learnt\")\n",
    "    \n",
    "    # illustrate the optimal predictor obtained from the ground truth weight vector\n",
    "    axs[iter_node].plot(X_grid[:,0], X_grid.dot(true_weights[:,G.nodes[iter_node][\"block\"]]), label =\"true\")\n",
    "    axs[iter_node].legend(loc='upper left')\n",
    "\n",
    "plt.tight_layout(pad=3.0)\n",
    "plt.show()"
   ]
  },
  {
   "cell_type": "markdown",
   "id": "46114d12",
   "metadata": {},
   "source": [
    "# Task 3.1\n",
    "\n",
    "* Experiment with different choices for the inter-cluster edge weigtt `G[(2,3)][\"A\"]` in Demo 3.1. What is the effect on the results obtained from Demo 3.2. when making this weight smaller or larger. \n",
    "\n",
    "* Experiment with different choices for the regularization parameter `lambda_TV` in Demo 3.2.  What is the effect on the local weight vectors obtained from Demo 3.2. when making this parameter smaller (extreme case 0) or larger. "
   ]
  },
  {
   "cell_type": "markdown",
   "id": "b89add25",
   "metadata": {},
   "source": [
    "# Task 3.2\n",
    "\n",
    "Modify Demo 3.2. by replacing the synthetic dataset (obtained from Demo 3.1) with the networked weather dataset `G_FMI` generated in Demo 2.4."
   ]
  },
  {
   "cell_type": "code",
   "execution_count": null,
   "id": "2cb5f1cc",
   "metadata": {},
   "outputs": [],
   "source": []
  }
 ],
 "metadata": {
  "kernelspec": {
   "display_name": "Python 3",
   "language": "python",
   "name": "python3"
  },
  "language_info": {
   "codemirror_mode": {
    "name": "ipython",
    "version": 3
   },
   "file_extension": ".py",
   "mimetype": "text/x-python",
   "name": "python",
   "nbconvert_exporter": "python",
   "pygments_lexer": "ipython3",
   "version": "3.8.8"
  }
 },
 "nbformat": 4,
 "nbformat_minor": 5
}
