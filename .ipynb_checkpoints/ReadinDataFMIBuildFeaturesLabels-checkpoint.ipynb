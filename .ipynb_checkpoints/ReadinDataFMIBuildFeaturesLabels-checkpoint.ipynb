{
 "cells": [
  {
   "cell_type": "markdown",
   "id": "3737df3d",
   "metadata": {},
   "source": [
    "# IEEE Seasonal School on Networked Federated Learning \n",
    "## Exercise 1\n",
    "\n",
    "\n",
    "## Learning Goals\n",
    "After successfully completing this assignment, you should be able to:\n",
    "\n",
    "- represent and manipulate numeric data using [`numpy`](https://numpy.org/doc/stable/reference/generated/numpy.array.html) arrays \n",
    "- represent and manipulate data using [`pandas`](https://pandas.pydata.org/docs/reference/api/pandas.DataFrame.html) dataframes \n",
    "- load data from a .csv file \n"
   ]
  },
  {
   "cell_type": "code",
   "execution_count": 13,
   "id": "4b3c7061",
   "metadata": {},
   "outputs": [],
   "source": [
    "import numpy as np                   # import numpy package under shorthand \"np\"\n",
    "import pandas as pd                  # import pandas package under shorthand \"pd\"\n",
    "import matplotlib.pyplot as plt"
   ]
  },
  {
   "cell_type": "markdown",
   "id": "7b98bec6",
   "metadata": {},
   "source": [
    "# Representing Data as Numpy Arrays\n",
    "\n",
    "Data consists of many individual datapoints. Each datapoint is characterized by features and labels. Let us assume that the features of a datapoint is a finite list of numbers $x_{1},\\ldots,x_{n} \\in \\mathbb{R}$. We can represent such a finite list of numbers conveniently using a numeric or [`numpy`](https://numpy.org/doc/stable/reference/generated/numpy.ndarray.html?highlight=ndarray#numpy.ndarray) array. \n",
    "\n",
    "For instance, we could have a feature vector `np.array([60.1699, 24.9384])` representing the coordinates of Helsinki, and a label `np.array([5.0])` representing average yearly temperature.\n",
    "In general, the feature vector $\\mathbf{x} = \\big(x_{1},\\ldots,x_{n} \\big)^{T} \\in \\mathbb{R}^{n}$ can be represented by a 1 dimensional `numpy` array `x = np.array([x1,...,xn])`. \n",
    "\n",
    "This course will use mainly `numpy` arrays with 1 or 2 dimensions, representing vectors and matrices, respectively. We represent an $m \\times n$ matrix, i.e., with $m$ rows and $n$ columns, using a 2 dimensional `numpy`array with shape `(m,n)`. The Python code `A=np.array([[1,1,1],[2,2,2]])` creates a `numpy` array of shape `(2, 3)`, representing the matrix \n",
    "$$\n",
    "A= \\begin{pmatrix}\n",
    "1 & 1 & 1\\\\\n",
    "2 & 2 & 2\n",
    "\\end{pmatrix}\n",
    "$$\n",
    "\n",
    "One key attribute of an [`numpy.ndarray`](https://numpy.org/doc/stable/reference/generated/numpy.ndarray.html?highlight=ndarray#numpy.ndarray) object `x` is its shape, which is stored in the attribute `x.shape`. The shape `x.shape` is a tuple of integers $s_{0},\\ldots,s_{d-1}$ that indicates the extent (size/length) of the `numeric` array in different dimensions. The first entry $s_{0}$ of the list `x.shape` is the extent in the first dimension (dimension \"0\"), the second entry $s_{1}$ is the extent of `x` in the second dimension (dimension \"1\"). Note that `np.array([1,2,3]).shape` returns `(3,)` which represents a vector, but `np.array([[1,2,3]]).shape` returns `(1, 3)` which represents a matrix.\n",
    "\n",
    "\n",
    "\n",
    "For more information:\n",
    "\n",
    "- [Numpy Documentation](https://numpy.org/doc/stable/index.html)\n",
    "- [What is Numpy?](https://numpy.org/doc/stable/user/whatisnumpy.html)\n",
    "- [Numpy Basics](https://numpy.org/doc/stable/user/basics.html)\n",
    "- [Visualization](https://stackoverflow.com/questions/48200911/very-basic-numpy-array-dimension-visualization)\n",
    "\n",
    "In the task below you will be asked to do some simple operations in numpy that will be necessary to know for the duration of the course. "
   ]
  },
  {
   "cell_type": "markdown",
   "id": "fbb4a668",
   "metadata": {},
   "source": [
    "<div class=\" alert alert-info\" >\n",
    "    \n",
    "### Demo\n",
    "\n",
    "The code snippet below demonstrates basic operations to create and manipulate `numpy` arrays. \n",
    "    \n",
    "</div>"
   ]
  },
  {
   "cell_type": "code",
   "execution_count": 14,
   "id": "3a7afb05",
   "metadata": {},
   "outputs": [
    {
     "name": "stdout",
     "output_type": "stream",
     "text": [
      "P:\n",
      " [1 2 3 4 5 6 7 8]\n",
      "The shape of P is:  (8,)\n",
      "\n",
      "P_1:\n",
      " [[1]\n",
      " [2]\n",
      " [3]\n",
      " [4]\n",
      " [5]\n",
      " [6]\n",
      " [7]\n",
      " [8]]\n",
      "The shape of P_1 is:  (8, 1)\n",
      "\n",
      "P_2:\n",
      " [[1 2 3 4]\n",
      " [5 6 7 8]]\n",
      "The shape of P_2 is:  (2, 4)\n"
     ]
    }
   ],
   "source": [
    "x = np.array([1,2,3])\n",
    "y = np.array([2,3,4])\n",
    "\n",
    "\n",
    "def sum_matrix(x,y):  \n",
    "    \"\"\"\n",
    "    Parameters:\n",
    "    x -- a numpy array\n",
    "    y -- a numpy array\n",
    "    \n",
    "    Returns:\n",
    "    a numpy array representing the element-wise sum of x and y\n",
    "    \"\"\"\n",
    "    return x + y\n",
    "\n",
    "def product_matrix(x,y):\n",
    "    \"\"\"\n",
    "    Parameters:\n",
    "    x -- a numpy array\n",
    "    y -- a numpy array\n",
    "    \n",
    "    Returns:\n",
    "    a numpy array representing the element-wise product of x and y\n",
    "    \"\"\"\n",
    "    return x * y\n",
    "\n",
    "# create a 1-D numpy array\n",
    "P = np.array([1,2,3,4,5,6,7,8])  \n",
    "print('P:\\n',P)\n",
    "print('The shape of P is: ',P.shape)   \n",
    "\n",
    "# reshape P to a 2-D array, the size of the second dimension is 1, the first dimension is inferred\n",
    "P_1 = P.reshape((-1,1)) \n",
    "print('\\nP_1:\\n',P_1)\n",
    "print('The shape of P_1 is: ',P_1.shape)\n",
    "\n",
    "# reshape P to a 2-D array with the shape (2,4)\n",
    "P_2 = P.reshape((2,4))  \n",
    "print('\\nP_2:\\n',P_2)\n",
    "print('The shape of P_2 is: ',P_2.shape)"
   ]
  },
  {
   "cell_type": "markdown",
   "id": "de934e4b",
   "metadata": {},
   "source": [
    "# Processing Data with Pandas\n",
    "\n",
    "[Pandas](https://pandas.pydata.org/docs/) provides the class `DataFrame`. A dataframe is a two-dimensional data structure, i.e., data is aligned in a tabular fashion in rows and columns. We can think of `DataFrame` a table whose rows represent individual datapoints and whose columns represent different properties (which might be features or labels) of the datapoints. \n",
    "\n",
    "We can perform basic operations on rows/columns like selecting, deleting, adding, and renaming. You can find some example use cases for `DataFrame` below. For more practice with `pandas` there is great documentation in the [10 minutes to Pandas](https://pandas.pydata.org/pandas-docs/stable/user_guide/10min.html) notebooks on their website.\n",
    "\n",
    "In what follows, we will demonstrate the usage of a `DataFrame` on data provided by the Finnish Meteorological Institute (FMI) at https://en.ilmatieteenlaitos.fi/download-observations. We have downloaded hourly weather observations at the FMI station Otsjoki Nuorgam during 01.06.2021 and 31.08.2021. The data is stored in the file `air_temp.csv` which is located in the same directory as this notebook.\n"
   ]
  },
  {
   "cell_type": "code",
   "execution_count": 15,
   "id": "ba1eba5b",
   "metadata": {},
   "outputs": [
    {
     "data": {
      "text/html": [
       "<div>\n",
       "<style scoped>\n",
       "    .dataframe tbody tr th:only-of-type {\n",
       "        vertical-align: middle;\n",
       "    }\n",
       "\n",
       "    .dataframe tbody tr th {\n",
       "        vertical-align: top;\n",
       "    }\n",
       "\n",
       "    .dataframe thead th {\n",
       "        text-align: right;\n",
       "    }\n",
       "</style>\n",
       "<table border=\"1\" class=\"dataframe\">\n",
       "  <thead>\n",
       "    <tr style=\"text-align: right;\">\n",
       "      <th></th>\n",
       "      <th>Year</th>\n",
       "      <th>m</th>\n",
       "      <th>d</th>\n",
       "      <th>Time</th>\n",
       "      <th>Time zone</th>\n",
       "      <th>Air temperature (degC)</th>\n",
       "    </tr>\n",
       "  </thead>\n",
       "  <tbody>\n",
       "    <tr>\n",
       "      <th>0</th>\n",
       "      <td>2021</td>\n",
       "      <td>6</td>\n",
       "      <td>1</td>\n",
       "      <td>00:00</td>\n",
       "      <td>UTC</td>\n",
       "      <td>6.2</td>\n",
       "    </tr>\n",
       "    <tr>\n",
       "      <th>1</th>\n",
       "      <td>2021</td>\n",
       "      <td>6</td>\n",
       "      <td>1</td>\n",
       "      <td>01:00</td>\n",
       "      <td>UTC</td>\n",
       "      <td>6.4</td>\n",
       "    </tr>\n",
       "    <tr>\n",
       "      <th>2</th>\n",
       "      <td>2021</td>\n",
       "      <td>6</td>\n",
       "      <td>1</td>\n",
       "      <td>02:00</td>\n",
       "      <td>UTC</td>\n",
       "      <td>6.4</td>\n",
       "    </tr>\n",
       "    <tr>\n",
       "      <th>3</th>\n",
       "      <td>2021</td>\n",
       "      <td>6</td>\n",
       "      <td>1</td>\n",
       "      <td>03:00</td>\n",
       "      <td>UTC</td>\n",
       "      <td>6.8</td>\n",
       "    </tr>\n",
       "    <tr>\n",
       "      <th>4</th>\n",
       "      <td>2021</td>\n",
       "      <td>6</td>\n",
       "      <td>1</td>\n",
       "      <td>04:00</td>\n",
       "      <td>UTC</td>\n",
       "      <td>7.1</td>\n",
       "    </tr>\n",
       "  </tbody>\n",
       "</table>\n",
       "</div>"
      ],
      "text/plain": [
       "   Year  m  d   Time Time zone  Air temperature (degC)\n",
       "0  2021  6  1  00:00       UTC                     6.2\n",
       "1  2021  6  1  01:00       UTC                     6.4\n",
       "2  2021  6  1  02:00       UTC                     6.4\n",
       "3  2021  6  1  03:00       UTC                     6.8\n",
       "4  2021  6  1  04:00       UTC                     7.1"
      ]
     },
     "execution_count": 15,
     "metadata": {},
     "output_type": "execute_result"
    }
   ],
   "source": [
    "# read in data from the file \"air_temp.csv\" and store it \n",
    "# in the DataFrame \"df\"\n",
    "\n",
    "df = pd.read_csv('air_temp.csv')\n",
    "\n",
    "# print the first 5 weather recordings in the DataFrame `df`\n",
    "\n",
    "df.head(5) "
   ]
  },
  {
   "cell_type": "code",
   "execution_count": 16,
   "id": "3cd079da",
   "metadata": {},
   "outputs": [
    {
     "name": "stdout",
     "output_type": "stream",
     "text": [
      "<class 'pandas.core.frame.DataFrame'>\n",
      "RangeIndex: 2209 entries, 0 to 2208\n",
      "Data columns (total 6 columns):\n",
      " #   Column                  Non-Null Count  Dtype  \n",
      "---  ------                  --------------  -----  \n",
      " 0   Year                    2209 non-null   int64  \n",
      " 1   m                       2209 non-null   int64  \n",
      " 2   d                       2209 non-null   int64  \n",
      " 3   Time                    2209 non-null   object \n",
      " 4   Time zone               2209 non-null   object \n",
      " 5   Air temperature (degC)  2204 non-null   float64\n",
      "dtypes: float64(1), int64(3), object(2)\n",
      "memory usage: 103.7+ KB\n"
     ]
    }
   ],
   "source": [
    "# print a concise summary of a DataFrame including the index dtype and columns, non-null values and memory usage\n",
    "\n",
    "df.info()"
   ]
  },
  {
   "cell_type": "code",
   "execution_count": 17,
   "id": "dc758a70",
   "metadata": {},
   "outputs": [
    {
     "data": {
      "text/html": [
       "<div>\n",
       "<style scoped>\n",
       "    .dataframe tbody tr th:only-of-type {\n",
       "        vertical-align: middle;\n",
       "    }\n",
       "\n",
       "    .dataframe tbody tr th {\n",
       "        vertical-align: top;\n",
       "    }\n",
       "\n",
       "    .dataframe thead th {\n",
       "        text-align: right;\n",
       "    }\n",
       "</style>\n",
       "<table border=\"1\" class=\"dataframe\">\n",
       "  <thead>\n",
       "    <tr style=\"text-align: right;\">\n",
       "      <th></th>\n",
       "      <th>date</th>\n",
       "      <th>time</th>\n",
       "      <th>temperature</th>\n",
       "    </tr>\n",
       "  </thead>\n",
       "  <tbody>\n",
       "    <tr>\n",
       "      <th>2204</th>\n",
       "      <td>2021-8-31</td>\n",
       "      <td>20:00</td>\n",
       "      <td>6.1</td>\n",
       "    </tr>\n",
       "    <tr>\n",
       "      <th>2205</th>\n",
       "      <td>2021-8-31</td>\n",
       "      <td>21:00</td>\n",
       "      <td>6.4</td>\n",
       "    </tr>\n",
       "    <tr>\n",
       "      <th>2206</th>\n",
       "      <td>2021-8-31</td>\n",
       "      <td>22:00</td>\n",
       "      <td>6.2</td>\n",
       "    </tr>\n",
       "    <tr>\n",
       "      <th>2207</th>\n",
       "      <td>2021-8-31</td>\n",
       "      <td>23:00</td>\n",
       "      <td>5.6</td>\n",
       "    </tr>\n",
       "    <tr>\n",
       "      <th>2208</th>\n",
       "      <td>2021-9-1</td>\n",
       "      <td>00:00</td>\n",
       "      <td>5.5</td>\n",
       "    </tr>\n",
       "  </tbody>\n",
       "</table>\n",
       "</div>"
      ],
      "text/plain": [
       "           date   time  temperature\n",
       "2204  2021-8-31  20:00          6.1\n",
       "2205  2021-8-31  21:00          6.4\n",
       "2206  2021-8-31  22:00          6.2\n",
       "2207  2021-8-31  23:00          5.6\n",
       "2208   2021-9-1  00:00          5.5"
      ]
     },
     "execution_count": 17,
     "metadata": {},
     "output_type": "execute_result"
    }
   ],
   "source": [
    "# change column names\n",
    "\n",
    "df.columns=['year','month', 'day', 'time', 'time_zone','temperature'] \n",
    "\n",
    "# remove rows from dataframe \"df\" which contain missing values\n",
    "\n",
    "df = df.dropna(axis=0) #rows are considered as axis 0\n",
    "\n",
    "# concatenate the 3 columns \"year\", \"month\", \"day\" into a new column \"date\" in format e.g. 2022-01-26\n",
    "\n",
    "data = df.assign(date = df[\"year\"].astype(str)+'-'+df[\"month\"].astype(str)+'-'+df[\"day\"].astype(str))\n",
    "\n",
    "# remove columns \"year\", \"month\", \"day\", \"time_zone\" that are not used \n",
    "\n",
    "data = data.drop(['year','month','day','time_zone'],axis=1)  #columns are axis 1\n",
    "\n",
    "# switch column order\n",
    "\n",
    "data = data[['date','time','temperature']]\n",
    "\n",
    "# print the last 5 weather recordings of the new dataframe \n",
    "\n",
    "data.tail(5) "
   ]
  },
  {
   "cell_type": "markdown",
   "id": "f4bc6941",
   "metadata": {},
   "source": [
    "Sometimes we are interested in a specific column of a DataFrame, e.g. we want to use it as feature/label. we can select a single column using dataframe['column_name'], this will return a Series object. Series object has a method Series.to_numpy() which will give us a NumPy ndarray representing the values in this Series. You will repeatedly use this method through this course.\n"
   ]
  },
  {
   "cell_type": "code",
   "execution_count": 18,
   "id": "4186adf2",
   "metadata": {},
   "outputs": [
    {
     "name": "stdout",
     "output_type": "stream",
     "text": [
      "<class 'pandas.core.series.Series'> \n",
      "\n",
      "0       6.2\n",
      "1       6.4\n",
      "2       6.4\n",
      "3       6.8\n",
      "4       7.1\n",
      "       ... \n",
      "2204    6.1\n",
      "2205    6.4\n",
      "2206    6.2\n",
      "2207    5.6\n",
      "2208    5.5\n",
      "Name: temperature, Length: 2204, dtype: float64\n"
     ]
    }
   ],
   "source": [
    "# Let us select only the column \"temperature\" of the DataFrame \"data\"\n",
    "tmp = data['temperature'] \n",
    "\n",
    "print(type(tmp),'\\n') # check the type of this object\n",
    "print(tmp)"
   ]
  },
  {
   "cell_type": "code",
   "execution_count": 19,
   "id": "b0d72505",
   "metadata": {},
   "outputs": [
    {
     "data": {
      "text/plain": [
       "array([6.2, 6.4, 6.4, ..., 6.2, 5.6, 5.5])"
      ]
     },
     "execution_count": 19,
     "metadata": {},
     "output_type": "execute_result"
    }
   ],
   "source": [
    "data['temperature'].to_numpy() # extract the values stored in a specific column into a ndarray"
   ]
  },
  {
   "cell_type": "markdown",
   "id": "a35e19d9",
   "metadata": {},
   "source": [
    "We can select a single row by using dataframe.loc[ ] or dataframe.iloc[ ], the returned object is also Series.\n",
    "dataframe.iloc[ ] and dataframe.loc[ ] in fact can be used in multiple ways to do dataframe slicing, for more details please read [the documentation](https://pandas.pydata.org/docs/reference/frame.html).\n"
   ]
  },
  {
   "cell_type": "code",
   "execution_count": 20,
   "id": "9d91aa36",
   "metadata": {},
   "outputs": [
    {
     "name": "stdout",
     "output_type": "stream",
     "text": [
      "The first row: \n",
      " date           2021-6-1\n",
      "time              00:00\n",
      "temperature         6.2\n",
      "Name: 0, dtype: object\n",
      "\n",
      " The row with row label name '3': \n",
      " date           2021-6-1\n",
      "time              03:00\n",
      "temperature         6.8\n",
      "Name: 3, dtype: object\n"
     ]
    }
   ],
   "source": [
    "# select the first weather recording (row) stored in the DataFrame \"data\"\n",
    "firstrow = data.iloc[0]  # `0` is the index of the first row\n",
    "\n",
    "print(\"The first row: \\n\",firstrow) \n",
    "\n",
    "# select the row with row label name `3` by using data.loc[ ]\n",
    "# NOTE `3` is interpreted as a row label name , not an integer position along the index\n",
    "# the row label name could be string or other data type, not only int\n",
    "rowName3 = data.loc[3] \n",
    "print(\"\\n The row with row label name '3': \\n\",rowName3) "
   ]
  },
  {
   "cell_type": "code",
   "execution_count": 21,
   "id": "8c0b30c6",
   "metadata": {},
   "outputs": [
    {
     "data": {
      "text/html": [
       "<div>\n",
       "<style scoped>\n",
       "    .dataframe tbody tr th:only-of-type {\n",
       "        vertical-align: middle;\n",
       "    }\n",
       "\n",
       "    .dataframe tbody tr th {\n",
       "        vertical-align: top;\n",
       "    }\n",
       "\n",
       "    .dataframe thead th {\n",
       "        text-align: right;\n",
       "    }\n",
       "</style>\n",
       "<table border=\"1\" class=\"dataframe\">\n",
       "  <thead>\n",
       "    <tr style=\"text-align: right;\">\n",
       "      <th></th>\n",
       "      <th>date</th>\n",
       "      <th>time</th>\n",
       "      <th>temperature</th>\n",
       "    </tr>\n",
       "  </thead>\n",
       "  <tbody>\n",
       "    <tr>\n",
       "      <th>1395</th>\n",
       "      <td>2021-7-29</td>\n",
       "      <td>03:00</td>\n",
       "      <td>8.4</td>\n",
       "    </tr>\n",
       "    <tr>\n",
       "      <th>1635</th>\n",
       "      <td>2021-8-8</td>\n",
       "      <td>03:00</td>\n",
       "      <td>8.2</td>\n",
       "    </tr>\n",
       "    <tr>\n",
       "      <th>1107</th>\n",
       "      <td>2021-7-17</td>\n",
       "      <td>03:00</td>\n",
       "      <td>11.9</td>\n",
       "    </tr>\n",
       "    <tr>\n",
       "      <th>1083</th>\n",
       "      <td>2021-7-16</td>\n",
       "      <td>03:00</td>\n",
       "      <td>12.3</td>\n",
       "    </tr>\n",
       "    <tr>\n",
       "      <th>315</th>\n",
       "      <td>2021-6-14</td>\n",
       "      <td>03:00</td>\n",
       "      <td>7.8</td>\n",
       "    </tr>\n",
       "  </tbody>\n",
       "</table>\n",
       "</div>"
      ],
      "text/plain": [
       "           date   time  temperature\n",
       "1395  2021-7-29  03:00          8.4\n",
       "1635   2021-8-8  03:00          8.2\n",
       "1107  2021-7-17  03:00         11.9\n",
       "1083  2021-7-16  03:00         12.3\n",
       "315   2021-6-14  03:00          7.8"
      ]
     },
     "execution_count": 21,
     "metadata": {},
     "output_type": "execute_result"
    }
   ],
   "source": [
    "# we can select a subset of a DataFrame on some condition and create a new DataFrame\n",
    "\n",
    "# create a \"newdataset\" which consists only of weather recordings in \"data\" at \"time\" `03:00`\n",
    "newdataset= data[data['time'] == '03:00'] ; \n",
    "\n",
    "# print randomly selected five weather recordings (rows) of \"newdataset\"\n",
    "newdataset.sample(5) "
   ]
  },
  {
   "cell_type": "markdown",
   "id": "08a8928d",
   "metadata": {},
   "source": [
    "# Compiling a Dataset consisting of Datapoints each having Features and Labels"
   ]
  },
  {
   "cell_type": "markdown",
   "id": "12cb6d7b",
   "metadata": {},
   "source": [
    "<div class=\" alert alert-info\" >\n",
    "\n",
    "## Demo\n",
    "\n",
    "Consider the weather observations recorded in `air_temp.csv` and loaded into the dataframe `data`. Let us now demonstrate how to define datapoints, their features and labels based on these weather observations. It is important to note that the choice (definition) of datapoints, their features and labels are design choices. \n",
    "    \n",
    "We like to define a datapoint to represent an entire day, e.g., \n",
    "* first datapoint represents the day `2021-06-01`,\n",
    "* second datapoint represents the day `2021-06-02`,\n",
    "* third datapoint represents the day `2021-06-03`, \n",
    "* ...\n",
    "\n",
    "The total number $m$ of datapoints is the number of days for which `data` contains weather recordings for daytime `01:00` and `12:00`. \n",
    "    \n",
    "We characterize the $i$-th datapoint (day) using \n",
    "* the temperature recorded at 01:00 during the $i$th day as its feature $x^{(i)}$\n",
    "* the temperature recorded at 12:00 during the $i$th day as its label $y^{(i)}$\n",
    "\n",
    "We store the feature values $x^{(i)},i=1,\\ldots,m$ in a (two-dimensional) numpy array `X_demo` with shape `(m,1)`. The feature value $x^{(i)}$ is stored in the entry `X_demo[i-1,0]` (note that indexing of numpy arrays starts with 0!). The label values $y^{(i)},i=1,\\ldots,m$ are stored in a (one-dimensional) numpy array `y_demo` with shape `(m,)`. Finally, we generate a scatterplot where the $i$th datapoint is depicted by a dot located at coordinates $\\big(x^{(i)},y^{(i)}\\big)$. \n",
    "\n",
    "HINT: Reshape `X_demo` into a 2-D array by using array.reshape(-1, 1). This asks numpy to make the second dimension length one and automatically calculate the needed length of the first dimension so that the feature fits in the container which expects a 2-D array. (e.g.,the  .fit() method of [LinearRegression](https://scikit-learn.org/stable/modules/generated/sklearn.linear_model.LinearRegression.html#sklearn.linear_model.LinearRegression.fit))\n",
    "</div>"
   ]
  },
  {
   "cell_type": "code",
   "execution_count": 22,
   "id": "01036c93",
   "metadata": {},
   "outputs": [
    {
     "name": "stdout",
     "output_type": "stream",
     "text": [
      "number of datapoints: 92\n",
      "the shape of the feature matrix is:  (92, 1)\n",
      "the shape of the label vector is:  (92,)\n"
     ]
    }
   ],
   "source": [
    "# create a list containing the dates for which at least one recording is contained in \"data\"\n",
    "dates = data['date'].unique() \n",
    "\n",
    "features = []   # list used for storing features of datapoints\n",
    "labels = []     # list used for storing labels of datapoints\n",
    "\n",
    "m = 0    # number of datapoints created so far\n",
    "\n",
    "# iterate through the list of dates for which we have weather recordings\n",
    "for date in dates:\n",
    "    datapoint = data[(data['date']==date)]  # select weather recordinds corresponding at day \"date\"\n",
    "    row_f = datapoint[(datapoint.time=='01:00')]    # select weather recording at time \"01:00\"\n",
    "    row_l = datapoint[(datapoint.time=='12:00')]    # select weather recording at time \"12:00\"\n",
    "    if len(row_f)==1 and len(row_l)==1:\n",
    "        feature = row_f['temperature'].to_numpy()[0]  # extract the temperature recording at \"01:00\" as feature\n",
    "        label = row_l['temperature'].to_numpy()[0]    # extract the temperature recording at \"12:00\" as label\n",
    "        features.append(feature)                  # add feature to list \"features\"\n",
    "        labels.append(label)                      # add label to list \"labels\"\n",
    "        m = m+1\n",
    "        \n",
    "X_demo = np.array(features).reshape(m,1)  # convert a list of len=m to a ndarray and reshape it to (m,1)\n",
    "y_demo = np.array(labels) # convert a list of len=m to a ndarray \n",
    "\n",
    "print(\"number of datapoints:\",m)\n",
    "print(\"the shape of the feature matrix is: \",X_demo.shape)\n",
    "print('the shape of the label vector is: ',y_demo.shape)"
   ]
  },
  {
   "cell_type": "code",
   "execution_count": 23,
   "id": "6193b18c",
   "metadata": {},
   "outputs": [
    {
     "data": {
      "image/png": "[encoded data removed]",
      "text/plain": [
       "<Figure size 432x288 with 1 Axes>"
      ]
     },
     "metadata": {
      "needs_background": "light"
     },
     "output_type": "display_data"
    }
   ],
   "source": [
    "# visualize the datapoints\n",
    "fig = plt.figure()  #create a figure\n",
    "\n",
    "ax = fig.add_subplot(1, 1, 1) #add an axes object to the figure\n",
    "\n",
    "ax.scatter(X_demo,y_demo) #plot a scatterplot in the axes to visualize the datapoints\n",
    "ax.set_xlabel('Temperature at 01:00') # set the label of x axis\n",
    "ax.set_ylabel('Temperature at 12:00') # \n",
    "ax.set_title('Tmp_01:00 vs Tmp_12:00')\n",
    "\n",
    "plt.show()\n",
    "\n",
    "# one line of code `plt.scatter(X_demo,y_demo)` without creating figure and axes objects \n",
    "# can also realize a scatter plot, but it's worth getting yourself familiar with the relation among figure, axes and plot"
   ]
  },
  {
   "cell_type": "code",
   "execution_count": null,
   "id": "45ce5d49",
   "metadata": {},
   "outputs": [],
   "source": []
  },
  {
   "cell_type": "code",
   "execution_count": null,
   "id": "ca947e6f",
   "metadata": {},
   "outputs": [],
   "source": []
  }
 ],
 "metadata": {
  "kernelspec": {
   "display_name": "Python 3",
   "language": "python",
   "name": "python3"
  },
  "language_info": {
   "codemirror_mode": {
    "name": "ipython",
    "version": 3
   },
   "file_extension": ".py",
   "mimetype": "text/x-python",
   "name": "python",
   "nbconvert_exporter": "python",
   "pygments_lexer": "ipython3",
   "version": "3.8.8"
  }
 },
 "nbformat": 4,
 "nbformat_minor": 5
}
