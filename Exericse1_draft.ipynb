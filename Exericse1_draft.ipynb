{
 "cells": [
  {
   "cell_type": "markdown",
   "metadata": {},
   "source": [
    "# IEEE SPS Seasonal School on Networked Federated Learning \n",
    "# https://ieeespcasfinland.github.io/\n",
    "# Exericse 1 "
   ]
  },
  {
   "cell_type": "markdown",
   "metadata": {},
   "source": [
    "Consider data points each of which is characterized by a numeric label $y$ and a numberic feature vector $\\mathbf{x}= \\big(x_{1},\\ldots,x_{n}\\big)^{T}$. We would like to find (or learn) a linear map (hypothesis) $h(\\mathbf{x}) = \\mathbf{w}^{T} \\mathbf{x} = \\sum_{j=1}^{n} w_{j} x_{j}$ to predict the label $y$ of a data point based solely on its feature vector. Note that each such predictor map $h(\\mathbf{x})$ is fully characterized by its weights vector $\\mathbf{w} = \\big(w_{1},\\ldots,w_{n}\\big)^{T}$ which is often indicated by the notation $h^{(\\mathbf{w})}$. \n",
    "\n",
    "A popular performance measure for the usefulness of a linear predictor is the squared error loss. Given a set of labeled data points $\\big( \\mathbf{x}^{(1)},y^{(1)} \\big),\\ldots,\\big(\\mathbf{x}^{(m)},y^{(m)} \\big)$, we learn a weight vector by minimizing the average squared error (mean squared error or MSE): \n",
    "$$ \\sum_{i=1}^{m} \\big( h(\\mathbf{x}^{(i)}) - y^{(i)} \\big)^2.$$ \n",
    "\n",
    "Chapter 5. of mlbook.cs.aalto.fi shows that minimizing the MSE is equivalent to solving \n",
    "$$ \\min_{\\mathbf{w}} f(\\mathbf{w}) \\mbox{ , with } f(\\mathbf{w}) := \\| \\mathbf{y} - \\mathbf{X} \\mathbf{x} \\|^{2}_{2}.$$ Here we used the feature matrix $\\mathbf{X} = \\big( \\mathbf{x}^{(1)},\\ldots, \\big)^{T}$ and the label vector $\\mathbf{y} = \\big(y^{(1)},\\ldots\\big)^{T}$. It can be shown that the objective function $f(\\mathbf{w})$ is smooth and convex. We can therefore solve it using a sufficient number of gradient descent steps: \n",
    "\\begin{align} \n",
    "\\mathbf{w}^{(k+1)} & = \\mathbf{w}^{(k)} - \\alpha \\nabla f(\\mathbf{w})  \\quad \\quad \\mbox{ (Generic GD)}. \n",
    "\\end{align}\n",
    "The tuning parameter $\\alpha$ is known as \"step size\" or \"learning rate\". The proper choice for the value of $\\alpha$ is crucial for the behaviour of GD methods (see [1, Ch. 5])\n",
    "\n",
    "Basic matrix calculus reveals that \n",
    "$$ \\nabla f(\\mathbf{w}) = -\\mathbf{X}^{T} \\big( \\mathbf{y} - \\mathbf{X} \\mathbf{w}\\big). \\quad \\mbox{ (GradientLinReg)}.$$\n",
    "Combining (Generic GD) with (Gradient LinReg) results in the basic iteration of GD for linear (\"least-squares\") regression: \n",
    "\\begin{align} \n",
    "\\mathbf{w}^{(k+1)} & = \\mathbf{w}^{(k)} + \\alpha \\mathbf{X}^{T} \\big( \\mathbf{y} - \\mathbf{X} \\mathbf{w}\\big) \\quad \\quad \\mbox{ (LinRegGD)}. \n",
    "\\end{align}\n",
    "\n",
    "[1] A. Jung, \"Machine Learning: The Basics,\" Springer, 2022, draft: mlbook.cs.aalto.fi \n"
   ]
  },
  {
   "cell_type": "markdown",
   "metadata": {},
   "source": [
    "# Starter Code - Gradient Descent for Linear Regression. \n",
    "\n",
    "The code snippet below generates some data points by randomly drawing feature vectors and using them to construct labels for data points (by a noisy linear combinations of the features). We then compute a fixed number of GD steps (see (LinRegGD)). "
   ]
  },
  {
   "cell_type": "code",
   "execution_count": 11,
   "metadata": {
    "colab": {
     "base_uri": "https://localhost:8080/"
    },
    "id": "nZIoeTB4rKJ0",
    "outputId": "7e416ccc-be96-481c-a0e6-8ba56d29fccf"
   },
   "outputs": [
    {
     "name": "stdout",
     "output_type": "stream",
     "text": [
      "[23.558836794132862, 2.510846941493062, 0.46737596995073316, 0.2739698290080419, 0.1896349055151731, 0.13184773794159377, 0.09167915389419201, 0.06374842828980781, 0.044327004994129005, 0.03082245988889583]\n"
     ]
    }
   ],
   "source": [
    "import numpy as np\n",
    "\n",
    "\n",
    "# define the number of data poins \n",
    "\n",
    "samplesize=10\n",
    "\n",
    "# create a feature matrix whose rows contain the feature vectors of individual data points \n",
    "# each data point is characterized by a feature vector (x1,x2) of lenght 2. The first feature \n",
    "# x1 is an arbitrary number while the second feature x2 is fixed to be always equal to 1 (a \"dummy feature\")\n",
    "\n",
    "X = np.hstack((np.random.randn(samplesize,1),np.ones((samplesize,1))))\n",
    "\n",
    "# create a \"ground-truth\" weight vector for synthetically generating labels of data points \n",
    "true_w = np.random.randn(2)\n",
    "\n",
    "# create synthetic labels of data points and store them as the entries of the numpy array y \n",
    "y = X.dot(true_w) + np.random.randn(samplesize,)\n",
    "\n",
    "# the variable \"learning_rate\" is used to define the step size or learning rate of the GD steps\n",
    "\n",
    "learning_rate = 1/(2*samplesize)\n",
    "\n",
    "# define the number of GD steps that will be computed to obtain a weight vector that results \n",
    "# in accurate predictions for the label of a datapoint \n",
    "\n",
    "nr_iterations = 10\n",
    "\n",
    "# the numpy array current_weights will be used to store the result of the gradient descent steps \n",
    "current_weights = np.zeros(true_w.shape)\n",
    "\n",
    "# we will use the variable \"log_gradient\" to store the norm of the gradient computing during each \n",
    "# gradient step \n",
    "\n",
    "logging_gradient=[]\n",
    "\n",
    "# for loop repeats the GD steps for a total number of \"nr_iterations\" \n",
    "for _ in range(nr_iterations):\n",
    "    # compute the gradient of f(w) at the current weight vector (obtained from the previous GD step)\n",
    "    gradient = -2 * X.transpose().dot(y - X.dot(current_weights))\n",
    "    # update the current weight vector via the GD step \n",
    "    current_weights = current_weights - (learning_rate * gradient)\n",
    "    # append the norm of the gradient obtained in this iteration to the list \"logging_gradient\"\n",
    "    logging_gradient.append(np.linalg.norm(gradient))\n",
    "\n",
    "learnt_weights = current_weights  # store the finally obtained weight vector in the variable \"learnt_weights\"\n",
    "print(log_gradient)"
   ]
  },
  {
   "cell_type": "code",
   "execution_count": 12,
   "metadata": {
    "colab": {
     "base_uri": "https://localhost:8080/",
     "height": 321
    },
    "id": "Q_c6JwJ71-K8",
    "outputId": "586d7f44-9423-4158-d775-7a77f5b0057a"
   },
   "outputs": [
    {
     "data": {
      "text/plain": [
       "Text(0.5,1,'Gradient Descent Linear Regressor')"
      ]
     },
     "execution_count": 12,
     "metadata": {},
     "output_type": "execute_result"
    },
    {
     "data": {
      "image/png": "[encoded data removed]",
      "text/plain": [
       "<Figure size 432x288 with 1 Axes>"
      ]
     },
     "metadata": {},
     "output_type": "display_data"
    }
   ],
   "source": [
    "import matplotlib.pyplot as plt\n",
    "\n",
    "# the following code snipet creates \n",
    "plt.style.use('fivethirtyeight')\n",
    "plt.scatter(X[:,0], y, color='black')\n",
    "plt.plot(X[:,0], X.dot(learnt_weights))\n",
    "plt.gca().set_title(\"Gradient Descent Linear Regressor\")"
   ]
  },
  {
   "cell_type": "markdown",
   "metadata": {},
   "source": [
    "# Starter Code: Read in Data from a csv \n",
    "\n",
    "The Python package `Pandas` provides the class DataFrame. A dataframe is a two-dimensional data structure, i.e., data is aligned in a tabular fashion in rows and columns. We can think of DataFrame a table whose rows represent individual datapoints and whose columns represent different properties (which might be features or labels) of the datapoints.\n",
    "\n",
    "We will demonstrate the usage of a DataFrame on data provided by the Finnish Meteorological Institute (FMI) at https://en.ilmatieteenlaitos.fi/download-observations. We have downloaded hourly weather observations at the FMI station Otsjoki Nuorgam during 01.06.2021 and 31.08.2021. The data is stored in the file air_temp.csv which is located in the same directory as this notebook.\n"
   ]
  },
  {
   "cell_type": "code",
   "execution_count": 13,
   "metadata": {},
   "outputs": [
    {
     "data": {
      "text/html": [
       "<div>\n",
       "<style scoped>\n",
       "    .dataframe tbody tr th:only-of-type {\n",
       "        vertical-align: middle;\n",
       "    }\n",
       "\n",
       "    .dataframe tbody tr th {\n",
       "        vertical-align: top;\n",
       "    }\n",
       "\n",
       "    .dataframe thead th {\n",
       "        text-align: right;\n",
       "    }\n",
       "</style>\n",
       "<table border=\"1\" class=\"dataframe\">\n",
       "  <thead>\n",
       "    <tr style=\"text-align: right;\">\n",
       "      <th></th>\n",
       "      <th>Year</th>\n",
       "      <th>m</th>\n",
       "      <th>d</th>\n",
       "      <th>Time</th>\n",
       "      <th>Time zone</th>\n",
       "      <th>Air temperature (degC)</th>\n",
       "    </tr>\n",
       "  </thead>\n",
       "  <tbody>\n",
       "    <tr>\n",
       "      <th>0</th>\n",
       "      <td>2021</td>\n",
       "      <td>6</td>\n",
       "      <td>1</td>\n",
       "      <td>00:00</td>\n",
       "      <td>UTC</td>\n",
       "      <td>6.2</td>\n",
       "    </tr>\n",
       "    <tr>\n",
       "      <th>1</th>\n",
       "      <td>2021</td>\n",
       "      <td>6</td>\n",
       "      <td>1</td>\n",
       "      <td>01:00</td>\n",
       "      <td>UTC</td>\n",
       "      <td>6.4</td>\n",
       "    </tr>\n",
       "    <tr>\n",
       "      <th>2</th>\n",
       "      <td>2021</td>\n",
       "      <td>6</td>\n",
       "      <td>1</td>\n",
       "      <td>02:00</td>\n",
       "      <td>UTC</td>\n",
       "      <td>6.4</td>\n",
       "    </tr>\n",
       "    <tr>\n",
       "      <th>3</th>\n",
       "      <td>2021</td>\n",
       "      <td>6</td>\n",
       "      <td>1</td>\n",
       "      <td>03:00</td>\n",
       "      <td>UTC</td>\n",
       "      <td>6.8</td>\n",
       "    </tr>\n",
       "    <tr>\n",
       "      <th>4</th>\n",
       "      <td>2021</td>\n",
       "      <td>6</td>\n",
       "      <td>1</td>\n",
       "      <td>04:00</td>\n",
       "      <td>UTC</td>\n",
       "      <td>7.1</td>\n",
       "    </tr>\n",
       "  </tbody>\n",
       "</table>\n",
       "</div>"
      ],
      "text/plain": [
       "   Year  m  d   Time Time zone  Air temperature (degC)\n",
       "0  2021  6  1  00:00       UTC                     6.2\n",
       "1  2021  6  1  01:00       UTC                     6.4\n",
       "2  2021  6  1  02:00       UTC                     6.4\n",
       "3  2021  6  1  03:00       UTC                     6.8\n",
       "4  2021  6  1  04:00       UTC                     7.1"
      ]
     },
     "execution_count": 13,
     "metadata": {},
     "output_type": "execute_result"
    }
   ],
   "source": [
    "import pandas as pd \n",
    "\n",
    "# read in data from the file \"air_temp.csv\" and store it \n",
    "# in the DataFrame \"df\"\n",
    "\n",
    "df = pd.read_csv('air_temp.csv')\n",
    "\n",
    "# print the first 5 weather recordings in the DataFrame `df`\n",
    "\n",
    "df.head(5) "
   ]
  },
  {
   "cell_type": "code",
   "execution_count": 14,
   "metadata": {},
   "outputs": [
    {
     "name": "stdout",
     "output_type": "stream",
     "text": [
      "<class 'pandas.core.frame.DataFrame'>\n",
      "RangeIndex: 2209 entries, 0 to 2208\n",
      "Data columns (total 6 columns):\n",
      " #   Column                  Non-Null Count  Dtype  \n",
      "---  ------                  --------------  -----  \n",
      " 0   Year                    2209 non-null   int64  \n",
      " 1   m                       2209 non-null   int64  \n",
      " 2   d                       2209 non-null   int64  \n",
      " 3   Time                    2209 non-null   object \n",
      " 4   Time zone               2209 non-null   object \n",
      " 5   Air temperature (degC)  2204 non-null   float64\n",
      "dtypes: float64(1), int64(3), object(2)\n",
      "memory usage: 103.7+ KB\n"
     ]
    }
   ],
   "source": [
    "# print a concise summary of a DataFrame including the index dtype and columns, non-null values and memory usage\n",
    "\n",
    "df.info()"
   ]
  },
  {
   "cell_type": "code",
   "execution_count": 15,
   "metadata": {},
   "outputs": [
    {
     "data": {
      "text/html": [
       "<div>\n",
       "<style scoped>\n",
       "    .dataframe tbody tr th:only-of-type {\n",
       "        vertical-align: middle;\n",
       "    }\n",
       "\n",
       "    .dataframe tbody tr th {\n",
       "        vertical-align: top;\n",
       "    }\n",
       "\n",
       "    .dataframe thead th {\n",
       "        text-align: right;\n",
       "    }\n",
       "</style>\n",
       "<table border=\"1\" class=\"dataframe\">\n",
       "  <thead>\n",
       "    <tr style=\"text-align: right;\">\n",
       "      <th></th>\n",
       "      <th>date</th>\n",
       "      <th>time</th>\n",
       "      <th>temperature</th>\n",
       "    </tr>\n",
       "  </thead>\n",
       "  <tbody>\n",
       "    <tr>\n",
       "      <th>2204</th>\n",
       "      <td>2021-8-31</td>\n",
       "      <td>20:00</td>\n",
       "      <td>6.1</td>\n",
       "    </tr>\n",
       "    <tr>\n",
       "      <th>2205</th>\n",
       "      <td>2021-8-31</td>\n",
       "      <td>21:00</td>\n",
       "      <td>6.4</td>\n",
       "    </tr>\n",
       "    <tr>\n",
       "      <th>2206</th>\n",
       "      <td>2021-8-31</td>\n",
       "      <td>22:00</td>\n",
       "      <td>6.2</td>\n",
       "    </tr>\n",
       "    <tr>\n",
       "      <th>2207</th>\n",
       "      <td>2021-8-31</td>\n",
       "      <td>23:00</td>\n",
       "      <td>5.6</td>\n",
       "    </tr>\n",
       "    <tr>\n",
       "      <th>2208</th>\n",
       "      <td>2021-9-1</td>\n",
       "      <td>00:00</td>\n",
       "      <td>5.5</td>\n",
       "    </tr>\n",
       "  </tbody>\n",
       "</table>\n",
       "</div>"
      ],
      "text/plain": [
       "           date   time  temperature\n",
       "2204  2021-8-31  20:00          6.1\n",
       "2205  2021-8-31  21:00          6.4\n",
       "2206  2021-8-31  22:00          6.2\n",
       "2207  2021-8-31  23:00          5.6\n",
       "2208   2021-9-1  00:00          5.5"
      ]
     },
     "execution_count": 15,
     "metadata": {},
     "output_type": "execute_result"
    }
   ],
   "source": [
    "# change column names\n",
    "\n",
    "df.columns=['year','month', 'day', 'time', 'time_zone','temperature'] \n",
    "\n",
    "# remove rows from dataframe \"df\" which contain missing values\n",
    "\n",
    "df = df.dropna(axis=0) #rows are considered as axis 0\n",
    "\n",
    "# concatenate the 3 columns \"year\", \"month\", \"day\" into a new column \"date\" in format e.g. 2022-01-26\n",
    "\n",
    "data = df.assign(date = df[\"year\"].astype(str)+'-'+df[\"month\"].astype(str)+'-'+df[\"day\"].astype(str))\n",
    "\n",
    "# remove columns \"year\", \"month\", \"day\", \"time_zone\" that are not used \n",
    "\n",
    "data = data.drop(['year','month','day','time_zone'],axis=1)  #columns are axis 1\n",
    "\n",
    "# switch column order\n",
    "\n",
    "data = data[['date','time','temperature']]\n",
    "\n",
    "# print the last 5 weather recordings of the new dataframe \n",
    "\n",
    "data.tail(5) "
   ]
  },
  {
   "cell_type": "markdown",
   "metadata": {},
   "source": [
    "Sometimes we are interested in a specific column of a DataFrame, e.g. we want to use it as feature/label. we can select a single column using dataframe['column_name'], this will return a Series object. Series object has a method Series.to_numpy() which will give us a NumPy ndarray representing the values in this Series. You will repeatedly use this method through this course.\n"
   ]
  },
  {
   "cell_type": "code",
   "execution_count": 16,
   "metadata": {},
   "outputs": [
    {
     "name": "stdout",
     "output_type": "stream",
     "text": [
      "<class 'pandas.core.series.Series'> \n",
      "\n",
      "0       6.2\n",
      "1       6.4\n",
      "2       6.4\n",
      "3       6.8\n",
      "4       7.1\n",
      "       ... \n",
      "2204    6.1\n",
      "2205    6.4\n",
      "2206    6.2\n",
      "2207    5.6\n",
      "2208    5.5\n",
      "Name: temperature, Length: 2204, dtype: float64\n"
     ]
    }
   ],
   "source": [
    "# Let us select only the column \"temperature\" of the DataFrame \"data\"\n",
    "tmp = data['temperature'] \n",
    "\n",
    "print(type(tmp),'\\n') # check the type of this object\n",
    "print(tmp)"
   ]
  },
  {
   "cell_type": "code",
   "execution_count": 17,
   "metadata": {},
   "outputs": [
    {
     "data": {
      "text/plain": [
       "array([6.2, 6.4, 6.4, ..., 6.2, 5.6, 5.5])"
      ]
     },
     "execution_count": 17,
     "metadata": {},
     "output_type": "execute_result"
    }
   ],
   "source": [
    "data['temperature'].to_numpy() # extract the values stored in a specific column into a ndarray"
   ]
  },
  {
   "cell_type": "code",
   "execution_count": 18,
   "metadata": {},
   "outputs": [
    {
     "name": "stdout",
     "output_type": "stream",
     "text": [
      "The first row: \n",
      " date           2021-6-1\n",
      "time              00:00\n",
      "temperature         6.2\n",
      "Name: 0, dtype: object\n",
      "\n",
      " The row with row label name '3': \n",
      " date           2021-6-1\n",
      "time              03:00\n",
      "temperature         6.8\n",
      "Name: 3, dtype: object\n"
     ]
    }
   ],
   "source": [
    "# select the first weather recording (row) stored in the DataFrame \"data\"\n",
    "firstrow = data.iloc[0]  # `0` is the index of the first row\n",
    "\n",
    "print(\"The first row: \\n\",firstrow) \n",
    "\n",
    "# select the row with row label name `3` by using data.loc[ ]\n",
    "# NOTE `3` is interpreted as a row label name , not an integer position along the index\n",
    "# the row label name could be string or other data type, not only int\n",
    "rowName3 = data.loc[3] \n",
    "print(\"\\n The row with row label name '3': \\n\",rowName3) "
   ]
  },
  {
   "cell_type": "code",
   "execution_count": 19,
   "metadata": {},
   "outputs": [
    {
     "data": {
      "text/html": [
       "<div>\n",
       "<style scoped>\n",
       "    .dataframe tbody tr th:only-of-type {\n",
       "        vertical-align: middle;\n",
       "    }\n",
       "\n",
       "    .dataframe tbody tr th {\n",
       "        vertical-align: top;\n",
       "    }\n",
       "\n",
       "    .dataframe thead th {\n",
       "        text-align: right;\n",
       "    }\n",
       "</style>\n",
       "<table border=\"1\" class=\"dataframe\">\n",
       "  <thead>\n",
       "    <tr style=\"text-align: right;\">\n",
       "      <th></th>\n",
       "      <th>date</th>\n",
       "      <th>time</th>\n",
       "      <th>temperature</th>\n",
       "    </tr>\n",
       "  </thead>\n",
       "  <tbody>\n",
       "    <tr>\n",
       "      <th>747</th>\n",
       "      <td>2021-7-2</td>\n",
       "      <td>03:00</td>\n",
       "      <td>15.3</td>\n",
       "    </tr>\n",
       "    <tr>\n",
       "      <th>2187</th>\n",
       "      <td>2021-8-31</td>\n",
       "      <td>03:00</td>\n",
       "      <td>6.7</td>\n",
       "    </tr>\n",
       "    <tr>\n",
       "      <th>2115</th>\n",
       "      <td>2021-8-28</td>\n",
       "      <td>03:00</td>\n",
       "      <td>10.6</td>\n",
       "    </tr>\n",
       "    <tr>\n",
       "      <th>1899</th>\n",
       "      <td>2021-8-19</td>\n",
       "      <td>03:00</td>\n",
       "      <td>9.8</td>\n",
       "    </tr>\n",
       "    <tr>\n",
       "      <th>1491</th>\n",
       "      <td>2021-8-2</td>\n",
       "      <td>03:00</td>\n",
       "      <td>7.0</td>\n",
       "    </tr>\n",
       "  </tbody>\n",
       "</table>\n",
       "</div>"
      ],
      "text/plain": [
       "           date   time  temperature\n",
       "747    2021-7-2  03:00         15.3\n",
       "2187  2021-8-31  03:00          6.7\n",
       "2115  2021-8-28  03:00         10.6\n",
       "1899  2021-8-19  03:00          9.8\n",
       "1491   2021-8-2  03:00          7.0"
      ]
     },
     "execution_count": 19,
     "metadata": {},
     "output_type": "execute_result"
    }
   ],
   "source": [
    "# we can select a subset of a DataFrame on some condition and create a new DataFrame\n",
    "\n",
    "# create a \"newdataset\" which consists only of weather recordings in \"data\" at \"time\" `03:00`\n",
    "newdataset= data[data['time'] == '03:00'] ; \n",
    "\n",
    "# print randomly selected five weather recordings (rows) of \"newdataset\"\n",
    "newdataset.sample(5) "
   ]
  },
  {
   "cell_type": "markdown",
   "metadata": {},
   "source": [
    "# Your Task: \n",
    "\n",
    "Consider data points that represent individual days at the weather station \"...\" in Finland. Each data point (day) is characterized by a feature vector $\\big(x_{1},x_{2}\\big)$ where $x_{1}$ is the minimum daytime temeprature (as recorded by FMI) and $x_{2}=1$ (a \"dummy\" feature). The label $y$ of a data point (day) is the maximum daytime temperature (recorded by FMI).\n",
    "\n",
    "Modify the above code to learn a linear predictor of the maximum day-time temperature at the FMI station \"...\". "
   ]
  },
  {
   "cell_type": "code",
   "execution_count": null,
   "metadata": {},
   "outputs": [],
   "source": []
  },
  {
   "cell_type": "code",
   "execution_count": null,
   "metadata": {},
   "outputs": [],
   "source": []
  }
 ],
 "metadata": {
  "colab": {
   "collapsed_sections": [],
   "name": "Untitled0.ipynb",
   "provenance": []
  },
  "kernelspec": {
   "display_name": "Python 3",
   "language": "python",
   "name": "python3"
  },
  "language_info": {
   "codemirror_mode": {
    "name": "ipython",
    "version": 3
   },
   "file_extension": ".py",
   "mimetype": "text/x-python",
   "name": "python",
   "nbconvert_exporter": "python",
   "pygments_lexer": "ipython3",
   "version": "3.8.8"
  }
 },
 "nbformat": 4,
 "nbformat_minor": 1
}
