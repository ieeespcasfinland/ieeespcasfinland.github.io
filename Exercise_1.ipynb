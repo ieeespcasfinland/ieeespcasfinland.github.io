{
 "cells": [
  {
   "cell_type": "markdown",
   "metadata": {},
   "source": [
    "# IEEE SPS Seasonal School on Networked Federated Learning \n",
    "# https://ieeespcasfinland.github.io/\n",
    "\n",
    "# Exericse 1 "
   ]
  },
  {
   "cell_type": "markdown",
   "metadata": {},
   "source": [
    "## Learning Goals \n",
    "After completing this exercise, you should  \n",
    "\n",
    "* know the basic components of Linear Regression \n",
    "* be familiar the basic idea of Gradient Descent \n",
    "* be able to apply to apply Gradient Descent to Linear Regression \n",
    "* be able to read in datapoints from a csv file "
   ]
  },
  {
   "cell_type": "markdown",
   "metadata": {},
   "source": [
    "## Linear (Least-Squares) Regression\n",
    "\n",
    "Consider data points each of which is characterized by a numeric label $y$ and a numberic feature vector $\\mathbf{x}= \\big(x_{1},\\ldots,x_{n}\\big)^{T}$. We would like to find (or learn) a linear map (hypothesis) $h^{(\\mathbf{w})}(\\mathbf{x}) = \\mathbf{w}^{T} \\mathbf{x} = \\sum_{j=1}^{n} w_{j} x_{j}$ to predict the label $y$ of a data point based solely on its feature vector. Note that the linear map $h^{(\\mathbf{w})}(\\mathbf{x})$ is fully characterized by its weights vector $\\mathbf{w} = \\big(w_{1},\\ldots,w_{n}\\big)^{T}$. \n",
    "\n",
    "A popular performance measure for the usefulness of a prediction $h(\\mathbf{x})$ for a numeric label $y$ is the squared error loss $\\big( y - h(\\mathbf{x}) \\big)^{2}$. Given a set of labeled data points $\\big( \\mathbf{x}^{(1)},y^{(1)} \\big),\\ldots,\\big(\\mathbf{x}^{(m)},y^{(m)} \\big)$, we learn a weight vector by minimizing the average squared error (mean squared error or MSE): \n",
    "$$ \\min_{\\mathbf{w} \\in \\mathbb{R}^{n}} \\sum_{i=1}^{m} \\big( \\underbrace{\\mathbf{w}^{T} \\mathbf{x}^{(i)}}_{ h(\\mathbf{x}^{(i)})} - y^{(i)} \\big)^2. \\quad \\quad {\\rm (LinearRegression)}$$ \n",
    "\n",
    "## Gradient Descent  \n",
    "\n",
    "It can be shown that minimizing the MSE is equivalent to solving (see [1, Ch. 5]) \n",
    "$$ \\min_{\\mathbf{w}} f(\\mathbf{w}) \\mbox{ , with } f(\\mathbf{w}) := \\| \\mathbf{y} - \\mathbf{X} \\mathbf{w} \\|^{2}_{2}.$$ Here we used the feature matrix $\\mathbf{X} = \\big( \\mathbf{x}^{(1)},\\ldots, \\big)^{T}$ and the label vector $\\mathbf{y} = \\big(y^{(1)},\\ldots\\big)^{T}$. It can be shown that the objective function $f(\\mathbf{w})$ is smooth and convex. We can therefore solve it using a sufficient number of gradient descent steps: \n",
    "\\begin{align} \n",
    "\\mathbf{w}^{(k+1)} & = \\mathbf{w}^{(k)} - \\alpha \\nabla f\\big(\\mathbf{w}^{(k)}\\big)  \\quad \\quad \\mbox{ (Generic GD)}. \n",
    "\\end{align}\n",
    "The tuning parameter $\\alpha$ is known as \"step size\" or \"learning rate\". The proper choice for the value of $\\alpha$ is crucial for the behaviour of GD methods (see [1, Ch. 5]). If the learning rate $\\alpha$ is chosen too small, then the GD steps (GenericGD) make only very little progress towards the optimum weight vector. On the other hand, if the learning rate is chosen too large, then the GD steps (GenericGD) might diverge (\"move away\") from the optimum. \n",
    "\n",
    "## Gradient Descent for Linear Regression\n",
    "Let us now spcialize the generic GD step (GenericGD) to the objective function of Linear Regression. In particular, we obtain the following expression for the gradient $\\nabla f(\\mathbf{w})$: \n",
    "$$ \\nabla f(\\mathbf{w}) = -2 \\mathbf{X}^{T} \\big( \\mathbf{y} - \\mathbf{X} \\mathbf{w}\\big). \\quad \\mbox{ (GradientLinReg)}.$$\n",
    "The derivation of this expression can be found in [2, Appendix A.4]. \n",
    "Combining (Generic GD) with (Gradient LinReg) results in the basic iteration of GD for linear (\"least-squares\") regression: \n",
    "\\begin{align} \n",
    "\\mathbf{w}^{(k+1)} & = \\mathbf{w}^{(k)} + \\alpha 2 \\mathbf{X}^{T} \\big( \\mathbf{y} - \\mathbf{X} \\mathbf{w}^{(k)}\\big) \\quad \\quad \\mbox{ (LinRegGD)}. \n",
    "\\end{align}\n",
    "\n",
    "* [1] A. Jung, \"Machine Learning: The Basics,\" Springer, 2022, [free draft here](https://mlbook.cs.aalto.fi)\n",
    "* [2] S. Boyd and L. Vandenberghe, \"Convex Optimization\", Cambridge University Press, 2004 [available here](https://web.stanford.edu/~boyd/cvxbook/bv_cvxbook.pdf)"
   ]
  },
  {
   "cell_type": "markdown",
   "metadata": {},
   "source": [
    "# Demo 1.1 - Gradient Descent for Linear Regression. \n",
    "\n",
    "The code snippet below generates some data points by randomly drawing feature vectors and using them to construct labels for data points (by a noisy linear combinations of the features). These data points are them used as training data to learn a linear hypothesis map $h^{(\\mathbf{w})}$ via linear regression. We approximately solve linear regession (LinearRegression) by computing a fixed number (stored in the variable `N_GD`) of GD steps (LinRegGD)."
   ]
  },
  {
   "cell_type": "code",
   "execution_count": 12,
   "metadata": {
    "colab": {
     "base_uri": "https://localhost:8080/"
    },
    "id": "nZIoeTB4rKJ0",
    "outputId": "7e416ccc-be96-481c-a0e6-8ba56d29fccf"
   },
   "outputs": [
    {
     "name": "stdout",
     "output_type": "stream",
     "text": [
      "Norms of gradient: 0.007083124931432169\n",
      "True weights: [-0.19473301 -1.37111458]\n",
      "Learnt weights: [ 0.14860583 -1.6627449 ]\n"
     ]
    }
   ],
   "source": [
    "import numpy as np\n",
    "\n",
    "\n",
    "# define the number of data points \n",
    "m=10\n",
    "\n",
    "# create a feature matrix whose rows contain the feature vectors of individual data points \n",
    "# each data point is characterized by a feature vector (x1,x2) of lenght 2. The first feature \n",
    "# x1 is an arbitrary number while the second feature x2 is fixed to be always equal to 1 (a \"dummy feature\")\n",
    "\n",
    "X = np.hstack((np.random.randn(m,1),np.ones((m,1))))\n",
    "\n",
    "# create a \"ground-truth\" weight vector for synthetically generating labels of data points \n",
    "true_w = np.random.randn(2)\n",
    "\n",
    "# create synthetic labels of data points and store them as the entries of the numpy array y \n",
    "# the label of a data point is obtained by linearly combining the features (using the weights in true_w) \n",
    "# and adding Gaussian noise with zero mean and unit variance (via np.random.randn())\n",
    "\n",
    "noisestrength = 0.5 \n",
    "y = X.dot(true_w) + noisestrength*np.random.randn(m)\n",
    "\n",
    "# the variable \"learning_rate\" is used to define the step size or learning rate of the GD steps\n",
    "\n",
    "learning_rate = 1/(2*m)\n",
    "\n",
    "# define the number of GD steps that will be computed to obtain a weight vector that results \n",
    "# in accurate predictions for the label of a datapoint \n",
    "\n",
    "N_GD = 10\n",
    "\n",
    "# the numpy array current_weights will be used to store the result of the gradient descent steps \n",
    "current_weights = np.zeros(true_w.shape)\n",
    "\n",
    "# we will use the variable \"logging_gradient\" to store the norm of the gradient computing during each \n",
    "# gradient step. the norm of the gradient is a measure for how close we are already to the optimum. \n",
    "\n",
    "logging_gradient=[]\n",
    "\n",
    "# for loop repeats the GD steps for a total number of \"nr_iterations\" \n",
    "for _ in range(N_GD):\n",
    "    # compute the gradient of f(w) at the current weight vector (obtained from the previous GD step)\n",
    "    gradient = -2 * X.T.dot(y - X.dot(current_weights))\n",
    "    # update the current weight vector via the GD step \n",
    "    current_weights = current_weights - (learning_rate * gradient)\n",
    "    # append the norm of the gradient obtained in this iteration to the list \"logging_gradient\"\n",
    "    logging_gradient.append(np.linalg.norm(gradient))\n",
    "\n",
    "learnt_weights = current_weights  # store the finally obtained weight vector in the variable \"learnt_weights\"\n",
    "print(\"Norms of gradient:\", logging_gradient[-1])\n",
    "print(\"True weights:\", true_w)\n",
    "print(\"Learnt weights:\", learnt_weights)"
   ]
  },
  {
   "cell_type": "code",
   "execution_count": 13,
   "metadata": {
    "colab": {
     "base_uri": "https://localhost:8080/",
     "height": 321
    },
    "id": "Q_c6JwJ71-K8",
    "outputId": "586d7f44-9423-4158-d775-7a77f5b0057a"
   },
   "outputs": [
    {
     "data": {
      "text/plain": [
       "Text(0.5,1,'Gradient Descent Linear Regressor')"
      ]
     },
     "execution_count": 13,
     "metadata": {},
     "output_type": "execute_result"
    },
    {
     "data": {
      "image/png": "[encoded data removed]",
      "text/plain": [
       "<Figure size 432x288 with 1 Axes>"
      ]
     },
     "metadata": {},
     "output_type": "display_data"
    }
   ],
   "source": [
    "import matplotlib.pyplot as plt\n",
    "\n",
    "# the following code snipet creates a plot that depicts the data points \n",
    "# using their feature x_1 and their label value y \n",
    "# the plot also includes a line that represents the linear hypothesis obtained \n",
    "# from the weights stored in the numpy array \"learnt_weights\"\n",
    "\n",
    "plt.style.use('fivethirtyeight')\n",
    "plt.scatter(X[:,0], y, color='black')  # scatter plot of data points whose features and labels are in X and y \n",
    "plt.plot(X[:,0], X.dot(learnt_weights)) # plot the hypothesis h(x) as a function of feature x1 \n",
    "plt.gca().set_title(\"Gradient Descent Linear Regressor\")"
   ]
  },
  {
   "cell_type": "markdown",
   "metadata": {},
   "source": [
    "# Demo 1.2 - Read in Data from a csv \n",
    "\n",
    "The Python package `Pandas` provides the class DataFrame. A dataframe is a two-dimensional data structure, i.e., data is aligned in a tabular fashion in rows and columns. We can think of DataFrame a table whose rows represent individual datapoints and whose columns represent different properties (which might be features or labels) of the datapoints.\n",
    "\n",
    "We will demonstrate the usage of a DataFrame on data provided by the Finnish Meteorological Institute (FMI) at https://en.ilmatieteenlaitos.fi/download-observations. We have downloaded hourly weather observations at the FMI station [Utsjoki Nuorgam](https://goo.gl/maps/gugYFGGYvim57qK28) during 01.06.2021 and 31.08.2021. The data is stored in the file air_temp.csv which is located in the same directory as this notebook."
   ]
  },
  {
   "cell_type": "code",
   "execution_count": 14,
   "metadata": {},
   "outputs": [
    {
     "data": {
      "text/html": [
       "<div>\n",
       "<style scoped>\n",
       "    .dataframe tbody tr th:only-of-type {\n",
       "        vertical-align: middle;\n",
       "    }\n",
       "\n",
       "    .dataframe tbody tr th {\n",
       "        vertical-align: top;\n",
       "    }\n",
       "\n",
       "    .dataframe thead th {\n",
       "        text-align: right;\n",
       "    }\n",
       "</style>\n",
       "<table border=\"1\" class=\"dataframe\">\n",
       "  <thead>\n",
       "    <tr style=\"text-align: right;\">\n",
       "      <th></th>\n",
       "      <th>Year</th>\n",
       "      <th>m</th>\n",
       "      <th>d</th>\n",
       "      <th>Time</th>\n",
       "      <th>Time zone</th>\n",
       "      <th>Air temperature (degC)</th>\n",
       "    </tr>\n",
       "  </thead>\n",
       "  <tbody>\n",
       "    <tr>\n",
       "      <th>0</th>\n",
       "      <td>2021</td>\n",
       "      <td>6</td>\n",
       "      <td>1</td>\n",
       "      <td>00:00</td>\n",
       "      <td>UTC</td>\n",
       "      <td>6.2</td>\n",
       "    </tr>\n",
       "    <tr>\n",
       "      <th>1</th>\n",
       "      <td>2021</td>\n",
       "      <td>6</td>\n",
       "      <td>1</td>\n",
       "      <td>01:00</td>\n",
       "      <td>UTC</td>\n",
       "      <td>6.4</td>\n",
       "    </tr>\n",
       "    <tr>\n",
       "      <th>2</th>\n",
       "      <td>2021</td>\n",
       "      <td>6</td>\n",
       "      <td>1</td>\n",
       "      <td>02:00</td>\n",
       "      <td>UTC</td>\n",
       "      <td>6.4</td>\n",
       "    </tr>\n",
       "    <tr>\n",
       "      <th>3</th>\n",
       "      <td>2021</td>\n",
       "      <td>6</td>\n",
       "      <td>1</td>\n",
       "      <td>03:00</td>\n",
       "      <td>UTC</td>\n",
       "      <td>6.8</td>\n",
       "    </tr>\n",
       "    <tr>\n",
       "      <th>4</th>\n",
       "      <td>2021</td>\n",
       "      <td>6</td>\n",
       "      <td>1</td>\n",
       "      <td>04:00</td>\n",
       "      <td>UTC</td>\n",
       "      <td>7.1</td>\n",
       "    </tr>\n",
       "  </tbody>\n",
       "</table>\n",
       "</div>"
      ],
      "text/plain": [
       "   Year  m  d   Time Time zone  Air temperature (degC)\n",
       "0  2021  6  1  00:00       UTC                     6.2\n",
       "1  2021  6  1  01:00       UTC                     6.4\n",
       "2  2021  6  1  02:00       UTC                     6.4\n",
       "3  2021  6  1  03:00       UTC                     6.8\n",
       "4  2021  6  1  04:00       UTC                     7.1"
      ]
     },
     "execution_count": 14,
     "metadata": {},
     "output_type": "execute_result"
    }
   ],
   "source": [
    "import pandas as pd \n",
    "\n",
    "# read in data from the file \"air_temp.csv\" and store it \n",
    "# in the DataFrame \"df\"\n",
    "\n",
    "df = pd.read_csv('https://raw.githubusercontent.com/ieeespcasfinland/ieeespcasfinland.github.io/main/air_temp.csv')\n",
    "\n",
    "# print the first 5 weather recordings in the DataFrame `df`\n",
    "\n",
    "df.head(5) "
   ]
  },
  {
   "cell_type": "code",
   "execution_count": 15,
   "metadata": {},
   "outputs": [
    {
     "name": "stdout",
     "output_type": "stream",
     "text": [
      "<class 'pandas.core.frame.DataFrame'>\n",
      "RangeIndex: 2209 entries, 0 to 2208\n",
      "Data columns (total 6 columns):\n",
      " #   Column                  Non-Null Count  Dtype  \n",
      "---  ------                  --------------  -----  \n",
      " 0   Year                    2209 non-null   int64  \n",
      " 1   m                       2209 non-null   int64  \n",
      " 2   d                       2209 non-null   int64  \n",
      " 3   Time                    2209 non-null   object \n",
      " 4   Time zone               2209 non-null   object \n",
      " 5   Air temperature (degC)  2204 non-null   float64\n",
      "dtypes: float64(1), int64(3), object(2)\n",
      "memory usage: 103.7+ KB\n"
     ]
    }
   ],
   "source": [
    "# print a concise summary of a DataFrame including the index dtype and columns, non-null values and memory usage\n",
    "\n",
    "df.info()"
   ]
  },
  {
   "cell_type": "code",
   "execution_count": 16,
   "metadata": {},
   "outputs": [
    {
     "data": {
      "text/html": [
       "<div>\n",
       "<style scoped>\n",
       "    .dataframe tbody tr th:only-of-type {\n",
       "        vertical-align: middle;\n",
       "    }\n",
       "\n",
       "    .dataframe tbody tr th {\n",
       "        vertical-align: top;\n",
       "    }\n",
       "\n",
       "    .dataframe thead th {\n",
       "        text-align: right;\n",
       "    }\n",
       "</style>\n",
       "<table border=\"1\" class=\"dataframe\">\n",
       "  <thead>\n",
       "    <tr style=\"text-align: right;\">\n",
       "      <th></th>\n",
       "      <th>date</th>\n",
       "      <th>time</th>\n",
       "      <th>temperature</th>\n",
       "    </tr>\n",
       "  </thead>\n",
       "  <tbody>\n",
       "    <tr>\n",
       "      <th>2204</th>\n",
       "      <td>2021-8-31</td>\n",
       "      <td>20:00</td>\n",
       "      <td>6.1</td>\n",
       "    </tr>\n",
       "    <tr>\n",
       "      <th>2205</th>\n",
       "      <td>2021-8-31</td>\n",
       "      <td>21:00</td>\n",
       "      <td>6.4</td>\n",
       "    </tr>\n",
       "    <tr>\n",
       "      <th>2206</th>\n",
       "      <td>2021-8-31</td>\n",
       "      <td>22:00</td>\n",
       "      <td>6.2</td>\n",
       "    </tr>\n",
       "    <tr>\n",
       "      <th>2207</th>\n",
       "      <td>2021-8-31</td>\n",
       "      <td>23:00</td>\n",
       "      <td>5.6</td>\n",
       "    </tr>\n",
       "    <tr>\n",
       "      <th>2208</th>\n",
       "      <td>2021-9-1</td>\n",
       "      <td>00:00</td>\n",
       "      <td>5.5</td>\n",
       "    </tr>\n",
       "  </tbody>\n",
       "</table>\n",
       "</div>"
      ],
      "text/plain": [
       "           date   time  temperature\n",
       "2204  2021-8-31  20:00          6.1\n",
       "2205  2021-8-31  21:00          6.4\n",
       "2206  2021-8-31  22:00          6.2\n",
       "2207  2021-8-31  23:00          5.6\n",
       "2208   2021-9-1  00:00          5.5"
      ]
     },
     "execution_count": 16,
     "metadata": {},
     "output_type": "execute_result"
    }
   ],
   "source": [
    "# change column names\n",
    "\n",
    "df.columns=['year','month', 'day', 'time', 'time_zone','temperature'] \n",
    "\n",
    "# remove rows from dataframe \"df\" which contain missing values\n",
    "\n",
    "df = df.dropna(axis=0) #rows are considered as axis 0\n",
    "\n",
    "# concatenate the 3 columns \"year\", \"month\", \"day\" into a new column \"date\" in format e.g. 2022-01-26\n",
    "\n",
    "data = df.assign(date = df[\"year\"].astype(str)+'-'+df[\"month\"].astype(str)+'-'+df[\"day\"].astype(str))\n",
    "\n",
    "# remove columns \"year\", \"month\", \"day\", \"time_zone\" that are not used \n",
    "\n",
    "data = data.drop(['year','month','day','time_zone'],axis=1)  #columns are axis 1\n",
    "\n",
    "# switch column order\n",
    "\n",
    "data = data[['date','time','temperature']]\n",
    "\n",
    "# print the last 5 weather recordings of the new dataframe \n",
    "\n",
    "data.tail(5) "
   ]
  },
  {
   "cell_type": "markdown",
   "metadata": {},
   "source": [
    "Sometimes we are interested in a specific column of a DataFrame, e.g. we want to use it as feature/label. we can select a single column using dataframe['column_name'], this will return a Series object. Series object has a method Series.to_numpy() which will give us a NumPy ndarray representing the values in this Series."
   ]
  },
  {
   "cell_type": "code",
   "execution_count": 17,
   "metadata": {},
   "outputs": [
    {
     "name": "stdout",
     "output_type": "stream",
     "text": [
      "The type of \"tmp\" is  <class 'pandas.core.series.Series'> \n",
      "\n",
      "The type of \"tmp_numeric\" is <class 'numpy.ndarray'>\n",
      "temperature values : [6.2 6.4 6.4 ... 6.2 5.6 5.5]\n"
     ]
    }
   ],
   "source": [
    "# Let us select only the column \"temperature\" of the DataFrame \"data\"\n",
    "tmp = data['temperature'] \n",
    "\n",
    "print(\"The type of \\\"tmp\\\" is \", type(tmp),'\\n') # check the type of this object\n",
    "\n",
    "tmp_numeric = data['temperature'].to_numpy() \n",
    "\n",
    "print(\"The type of \\\"tmp_numeric\\\" is\",type(tmp_numeric))\n",
    "\n",
    "print(\"temperature values :\", tmp_numeric)\n"
   ]
  },
  {
   "cell_type": "code",
   "execution_count": 18,
   "metadata": {},
   "outputs": [
    {
     "name": "stdout",
     "output_type": "stream",
     "text": [
      "The first row: \n",
      " date           2021-6-1\n",
      "time              00:00\n",
      "temperature         6.2\n",
      "Name: 0, dtype: object\n",
      "\n",
      " The row with label name '3': \n",
      " date           2021-6-1\n",
      "time              03:00\n",
      "temperature         6.8\n",
      "Name: 3, dtype: object\n"
     ]
    }
   ],
   "source": [
    "# select the first weather recording (row) stored in the DataFrame \"data\"\n",
    "firstrow = data.iloc[0]  # `0` is the index of the first row\n",
    "\n",
    "print(\"The first row: \\n\",firstrow) \n",
    "\n",
    "# select the row with name `3` by using data.loc[ ]\n",
    "# NOTE `3` is interpreted as a row label name , not an integer position along the index\n",
    "# the row label name could be string or other data type, not only int\n",
    "rowName3 = data.loc[3] \n",
    "print(\"\\n The row with label name '3': \\n\",rowName3) "
   ]
  },
  {
   "cell_type": "code",
   "execution_count": 19,
   "metadata": {},
   "outputs": [
    {
     "data": {
      "text/html": [
       "<div>\n",
       "<style scoped>\n",
       "    .dataframe tbody tr th:only-of-type {\n",
       "        vertical-align: middle;\n",
       "    }\n",
       "\n",
       "    .dataframe tbody tr th {\n",
       "        vertical-align: top;\n",
       "    }\n",
       "\n",
       "    .dataframe thead th {\n",
       "        text-align: right;\n",
       "    }\n",
       "</style>\n",
       "<table border=\"1\" class=\"dataframe\">\n",
       "  <thead>\n",
       "    <tr style=\"text-align: right;\">\n",
       "      <th></th>\n",
       "      <th>date</th>\n",
       "      <th>time</th>\n",
       "      <th>temperature</th>\n",
       "    </tr>\n",
       "  </thead>\n",
       "  <tbody>\n",
       "    <tr>\n",
       "      <th>2163</th>\n",
       "      <td>2021-8-30</td>\n",
       "      <td>03:00</td>\n",
       "      <td>6.3</td>\n",
       "    </tr>\n",
       "    <tr>\n",
       "      <th>507</th>\n",
       "      <td>2021-6-22</td>\n",
       "      <td>03:00</td>\n",
       "      <td>10.8</td>\n",
       "    </tr>\n",
       "    <tr>\n",
       "      <th>147</th>\n",
       "      <td>2021-6-7</td>\n",
       "      <td>03:00</td>\n",
       "      <td>6.5</td>\n",
       "    </tr>\n",
       "    <tr>\n",
       "      <th>459</th>\n",
       "      <td>2021-6-20</td>\n",
       "      <td>03:00</td>\n",
       "      <td>10.0</td>\n",
       "    </tr>\n",
       "    <tr>\n",
       "      <th>51</th>\n",
       "      <td>2021-6-3</td>\n",
       "      <td>03:00</td>\n",
       "      <td>12.7</td>\n",
       "    </tr>\n",
       "  </tbody>\n",
       "</table>\n",
       "</div>"
      ],
      "text/plain": [
       "           date   time  temperature\n",
       "2163  2021-8-30  03:00          6.3\n",
       "507   2021-6-22  03:00         10.8\n",
       "147    2021-6-7  03:00          6.5\n",
       "459   2021-6-20  03:00         10.0\n",
       "51     2021-6-3  03:00         12.7"
      ]
     },
     "execution_count": 19,
     "metadata": {},
     "output_type": "execute_result"
    }
   ],
   "source": [
    "# we can select a subset of a DataFrame on some condition and create a new DataFrame\n",
    "\n",
    "# create a \"newdataset\" which consists only of weather recordings in \"data\" at \"time\" `03:00`\n",
    "newdataset= data[data['time'] == '03:00'] \n",
    "\n",
    "# print randomly selected five weather recordings (rows) of \"newdataset\"\n",
    "newdataset.sample(5) "
   ]
  },
  {
   "cell_type": "markdown",
   "metadata": {},
   "source": [
    "# Task 1.1 \n",
    "\n",
    "Try out different values for the sample size `m` and noise strength `noisestrength` in Demo 1.1. How does the number of required GD iterations (such that the iterates do not change significantly and the norm of the gradient becomes very small) depend on `m`and `noisestrength`. \n",
    "\n",
    "\n",
    "# Task 1.2 \n",
    "\n",
    "Consider the weather data stored in the file `FMIData.csv` ([click here to download](https://raw.githubusercontent.com/ieeespcasfinland/ieeespcasfinland.github.io/main/FMIData.csv)). Each row in this file contains a daily weather measurement. Let us consider each daily weather measurement as a data point. Each data point is characterized by several properties, including the date, the location of the weather station, the minimum daytime temperature and the maximum daytime temperature. For each data point (=a daily weather recording) define the feature vector $\\mathbf{x} = \\big(x_{1},x_{2}\\big)^{T}$ with $x_{1}$ being the minimum temperature and $x_{2} = 1$ (a \"dummy\" feature). The label of a data point (daily weather recording) is the maximum temperature. Use GD for linear regression to learn the weights of a predictor $h(\\mathbf{x})$ for the maximum temperature based on the minimum temperature. "
   ]
  },
  {
   "cell_type": "code",
   "execution_count": null,
   "metadata": {},
   "outputs": [],
   "source": []
  },
  {
   "cell_type": "code",
   "execution_count": null,
   "metadata": {},
   "outputs": [],
   "source": []
  }
 ],
 "metadata": {
  "colab": {
   "collapsed_sections": [],
   "name": "Untitled0.ipynb",
   "provenance": []
  },
  "kernelspec": {
   "display_name": "Python 3",
   "language": "python",
   "name": "python3"
  },
  "language_info": {
   "codemirror_mode": {
    "name": "ipython",
    "version": 3
   },
   "file_extension": ".py",
   "mimetype": "text/x-python",
   "name": "python",
   "nbconvert_exporter": "python",
   "pygments_lexer": "ipython3",
   "version": "3.8.8"
  }
 },
 "nbformat": 4,
 "nbformat_minor": 1
}
